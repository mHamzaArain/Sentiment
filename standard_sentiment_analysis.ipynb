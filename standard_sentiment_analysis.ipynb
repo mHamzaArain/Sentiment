{
 "cells": [
  {
   "cell_type": "markdown",
   "id": "6a1e8b23-443e-4c91-b470-c5b012aa90ae",
   "metadata": {},
   "source": [
    "# Sentiment Analysis"
   ]
  },
  {
   "cell_type": "code",
   "execution_count": 1,
   "id": "a28cb617-f3e7-4eb1-bb1e-62ebec3cb6af",
   "metadata": {},
   "outputs": [],
   "source": [
    "import numpy as np\n",
    "import pandas as pd\n",
    "import os\n",
    "import matplotlib.pyplot as plt\n",
    "import joblib\n",
    "from tqdm.auto import tqdm\n",
    "\n",
    "import warnings\n",
    "warnings.filterwarnings(\"ignore\", category=UserWarning) \n",
    "warnings.filterwarnings(\"ignore\")\n"
   ]
  },
  {
   "cell_type": "markdown",
   "id": "948d52b8-1a6a-4f74-b4d0-655bcd3cf748",
   "metadata": {},
   "source": [
    "## 1. Data Import"
   ]
  },
  {
   "cell_type": "code",
   "execution_count": 2,
   "id": "1a206be2-8c47-4db0-a36f-24c5b2e736e5",
   "metadata": {},
   "outputs": [],
   "source": [
    "def csv_files(all_csv_files): \n",
    "    \"\"\"Locate csv\"\"\"\n",
    "    for path, folder, file_list in os.walk(os.getcwd()):\n",
    "            if len(file_list) > 0:\n",
    "                for file in file_list:\n",
    "                    if file[-4:]  == \".csv\":\n",
    "                        all_csv_files.append(os.path.join(path, file))\n",
    "\n",
    "main_dir = os.getcwd()\n",
    "\n",
    "# Locate csvs\n",
    "all_csv_files = []            \n",
    "\n",
    "# Hamza\n",
    "os.chdir('/media/hamza/289875229874EFA4/WORK/annotation/done/sentiments')\n",
    "csv_files(all_csv_files )\n",
    "\n",
    "# uamir\n",
    "os.chdir('/home/hamza/Documents/umair')\n",
    "csv_files(all_csv_files )\n",
    "\n",
    "# Farrukh\n",
    "os.chdir('/home/hamza/Documents/farrukh')\n",
    "csv_files(all_csv_files )\n",
    "\n",
    "all_csv_files = list(set(all_csv_files))\n",
    "\n",
    "\n",
    "# Merging all csvs\n",
    "frames = [] \n",
    "for csv_file in all_csv_files:\n",
    "    frames.append(pd.read_csv(csv_file))\n",
    "\n",
    "df = pd.concat(frames)"
   ]
  },
  {
   "cell_type": "code",
   "execution_count": 3,
   "id": "110802fc-96fc-4aa8-98f0-c40c23ba85c6",
   "metadata": {},
   "outputs": [
    {
     "name": "stdout",
     "output_type": "stream",
     "text": [
      "55550\n"
     ]
    },
    {
     "data": {
      "text/html": [
       "<div>\n",
       "<style scoped>\n",
       "    .dataframe tbody tr th:only-of-type {\n",
       "        vertical-align: middle;\n",
       "    }\n",
       "\n",
       "    .dataframe tbody tr th {\n",
       "        vertical-align: top;\n",
       "    }\n",
       "\n",
       "    .dataframe thead th {\n",
       "        text-align: right;\n",
       "    }\n",
       "</style>\n",
       "<table border=\"1\" class=\"dataframe\">\n",
       "  <thead>\n",
       "    <tr style=\"text-align: right;\">\n",
       "      <th></th>\n",
       "      <th>Text</th>\n",
       "      <th>Sentiment</th>\n",
       "    </tr>\n",
       "  </thead>\n",
       "  <tbody>\n",
       "    <tr>\n",
       "      <th>0</th>\n",
       "      <td>Mobo pro only</td>\n",
       "      <td>Neutral</td>\n",
       "    </tr>\n",
       "    <tr>\n",
       "      <th>1</th>\n",
       "      <td>Ye liger card ka kya scene he.???</td>\n",
       "      <td>Neutral</td>\n",
       "    </tr>\n",
       "    <tr>\n",
       "      <th>2</th>\n",
       "      <td>Daraz per kafi saste me mil rhay hain....</td>\n",
       "      <td>Neutral</td>\n",
       "    </tr>\n",
       "    <tr>\n",
       "      <th>3</th>\n",
       "      <td>Inka original cards se performance me kitna fa...</td>\n",
       "      <td>Neutral</td>\n",
       "    </tr>\n",
       "    <tr>\n",
       "      <th>4</th>\n",
       "      <td>Muhammad Fahad ..... Kisi ne nhi btaya</td>\n",
       "      <td>Neutral</td>\n",
       "    </tr>\n",
       "  </tbody>\n",
       "</table>\n",
       "</div>"
      ],
      "text/plain": [
       "                                                Text Sentiment\n",
       "0                                      Mobo pro only   Neutral\n",
       "1                  Ye liger card ka kya scene he.???   Neutral\n",
       "2          Daraz per kafi saste me mil rhay hain....   Neutral\n",
       "3  Inka original cards se performance me kitna fa...   Neutral\n",
       "4             Muhammad Fahad ..... Kisi ne nhi btaya   Neutral"
      ]
     },
     "execution_count": 3,
     "metadata": {},
     "output_type": "execute_result"
    }
   ],
   "source": [
    "print(df.size)\n",
    "df.head()"
   ]
  },
  {
   "cell_type": "markdown",
   "id": "041b6725-70df-4666-92f1-1b3196cb0c19",
   "metadata": {},
   "source": [
    "## 2. EDA"
   ]
  },
  {
   "cell_type": "code",
   "execution_count": 4,
   "id": "b9a0bce8-ce97-43be-b39b-f66bc3897b6e",
   "metadata": {},
   "outputs": [
    {
     "data": {
      "image/png": "[encoded data removed]",
      "text/plain": [
       "<Figure size 432x288 with 1 Axes>"
      ]
     },
     "metadata": {
      "needs_background": "light"
     },
     "output_type": "display_data"
    },
    {
     "name": "stdout",
     "output_type": "stream",
     "text": [
      "Number of data points in class 3 : 13904 ( 50.059 %)\n",
      "Number of data points in class 2 : 5601 ( 20.166 %)\n",
      "Number of data points in class 4 : 4912 ( 17.685 %)\n",
      "Number of data points in class 1 : 477 ( 1.717 %)\n"
     ]
    }
   ],
   "source": [
    "def display_distribution(class_distribution, split_data_type, data_shape):\n",
    "    my_colors = 'rgbkymc'\n",
    "    class_distribution.plot(kind='bar')\n",
    "    plt.xlabel('Class')\n",
    "    plt.ylabel('Data points per Class')\n",
    "    plt.title(f'Distribution of yi in {split_data_type} data')\n",
    "    plt.grid()\n",
    "    plt.show()\n",
    "    \n",
    "    # ref: argsort https://docs.scipy.org/doc/numpy/reference/generated/numpy.argsort.html\n",
    "    # -(class_distribution.values): the minus sign will give us in decreasing order\n",
    "    sorted_yi = np.argsort(-class_distribution.values)\n",
    "    for i in sorted_yi:\n",
    "        print('Number of data points in class', i+1, ':',class_distribution.values[i], '(', np.round((class_distribution.values[i]/data_shape*100), 3), '%)')\n",
    "\n",
    "class_distribution = df['Sentiment'].value_counts().sort_index()\n",
    "display_distribution(class_distribution=class_distribution, split_data_type=\"all\", data_shape=df.shape[0])"
   ]
  },
  {
   "cell_type": "code",
   "execution_count": 5,
   "id": "346659a5-3e9e-4ad6-958b-fd1cf84ab033",
   "metadata": {},
   "outputs": [
    {
     "name": "stdout",
     "output_type": "stream",
     "text": [
      "['Neutral' 'Positive' 'Negative' 'Mixed' nan]\n"
     ]
    },
    {
     "data": {
      "text/plain": [
       "array(['Neutral', 'Positive', 'Negative', 'Mixed'], dtype=object)"
      ]
     },
     "execution_count": 5,
     "metadata": {},
     "output_type": "execute_result"
    }
   ],
   "source": [
    "print(df['Sentiment'].unique())\n",
    "df.dropna(inplace=True)\n",
    "df['Sentiment'].unique()"
   ]
  },
  {
   "cell_type": "code",
   "execution_count": 6,
   "id": "b4bc3338-663a-45ed-8b35-b9bdeb00d88a",
   "metadata": {},
   "outputs": [
    {
     "name": "stdout",
     "output_type": "stream",
     "text": [
      "Number of data points in our data (24894, 2)\n"
     ]
    },
    {
     "data": {
      "text/html": [
       "<div>\n",
       "<style scoped>\n",
       "    .dataframe tbody tr th:only-of-type {\n",
       "        vertical-align: middle;\n",
       "    }\n",
       "\n",
       "    .dataframe tbody tr th {\n",
       "        vertical-align: top;\n",
       "    }\n",
       "\n",
       "    .dataframe thead th {\n",
       "        text-align: right;\n",
       "    }\n",
       "</style>\n",
       "<table border=\"1\" class=\"dataframe\">\n",
       "  <thead>\n",
       "    <tr style=\"text-align: right;\">\n",
       "      <th></th>\n",
       "      <th>Text</th>\n",
       "      <th>Sentiment</th>\n",
       "    </tr>\n",
       "  </thead>\n",
       "  <tbody>\n",
       "    <tr>\n",
       "      <th>0</th>\n",
       "      <td>Mobo pro only</td>\n",
       "      <td>4</td>\n",
       "    </tr>\n",
       "    <tr>\n",
       "      <th>1</th>\n",
       "      <td>Ye liger card ka kya scene he.???</td>\n",
       "      <td>4</td>\n",
       "    </tr>\n",
       "    <tr>\n",
       "      <th>2</th>\n",
       "      <td>Daraz per kafi saste me mil rhay hain....</td>\n",
       "      <td>4</td>\n",
       "    </tr>\n",
       "    <tr>\n",
       "      <th>3</th>\n",
       "      <td>Inka original cards se performance me kitna fa...</td>\n",
       "      <td>4</td>\n",
       "    </tr>\n",
       "    <tr>\n",
       "      <th>4</th>\n",
       "      <td>Muhammad Fahad ..... Kisi ne nhi btaya</td>\n",
       "      <td>4</td>\n",
       "    </tr>\n",
       "  </tbody>\n",
       "</table>\n",
       "</div>"
      ],
      "text/plain": [
       "                                                Text  Sentiment\n",
       "0                                      Mobo pro only          4\n",
       "1                  Ye liger card ka kya scene he.???          4\n",
       "2          Daraz per kafi saste me mil rhay hain....          4\n",
       "3  Inka original cards se performance me kitna fa...          4\n",
       "4             Muhammad Fahad ..... Kisi ne nhi btaya          4"
      ]
     },
     "execution_count": 6,
     "metadata": {},
     "output_type": "execute_result"
    }
   ],
   "source": [
    "# Change column \"Score\" values \n",
    "## 1-5(1/2 => negative, 3 => neutral, 4/5 => positive) to\n",
    "## 0-1(negative/positive)\n",
    "\n",
    "def partition(x):\n",
    "    \"\"\"\n",
    "    Score>3 a positive rating,\n",
    "    Score<3 a negative rating.\n",
    "    \"\"\"\n",
    "    if x == 'Positive':\n",
    "        return 1\n",
    "    elif x == 'Negative':\n",
    "        return 2\n",
    "    elif x == 'Mixed':\n",
    "        return 3\n",
    "    elif x == 'Neutral':\n",
    "        return 4\n",
    "\n",
    "# changing reviews with score less than 3 to be positive and vice-versa\n",
    "actualScore = df['Sentiment']\n",
    "positiveNegative = actualScore.map(partition) \n",
    "df['Sentiment'] = positiveNegative\n",
    "\n",
    "print(\"Number of data points in our data\", df.shape)\n",
    "df.head()"
   ]
  },
  {
   "cell_type": "code",
   "execution_count": 7,
   "id": "3d3c543b-9ba5-4107-a5f2-517a0ff0f745",
   "metadata": {},
   "outputs": [
    {
     "data": {
      "image/png": "[encoded data removed]",
      "text/plain": [
       "<Figure size 432x288 with 1 Axes>"
      ]
     },
     "metadata": {
      "needs_background": "light"
     },
     "output_type": "display_data"
    },
    {
     "name": "stdout",
     "output_type": "stream",
     "text": [
      "Number of data points in class 4 : 13904 ( 55.853 %)\n",
      "Number of data points in class 2 : 5601 ( 22.499 %)\n",
      "Number of data points in class 1 : 4912 ( 19.732 %)\n",
      "Number of data points in class 3 : 477 ( 1.916 %)\n"
     ]
    }
   ],
   "source": [
    "class_distribution = df['Sentiment'].value_counts().sort_index()\n",
    "display_distribution(class_distribution=class_distribution, split_data_type=\"all\", data_shape=df.shape[0])"
   ]
  },
  {
   "cell_type": "markdown",
   "id": "99184535-f58f-41bd-94c9-d9dfd8a5ded4",
   "metadata": {},
   "source": [
    "## 3. Data Preprocessing"
   ]
  },
  {
   "cell_type": "code",
   "execution_count": 8,
   "id": "a0197a46-bad9-4975-8231-4e879b247491",
   "metadata": {},
   "outputs": [
    {
     "name": "stderr",
     "output_type": "stream",
     "text": [
      "100%|███████████████████████████████████| 24894/24894 [00:20<00:00, 1212.75it/s]\n"
     ]
    },
    {
     "data": {
      "text/html": [
       "<div>\n",
       "<style scoped>\n",
       "    .dataframe tbody tr th:only-of-type {\n",
       "        vertical-align: middle;\n",
       "    }\n",
       "\n",
       "    .dataframe tbody tr th {\n",
       "        vertical-align: top;\n",
       "    }\n",
       "\n",
       "    .dataframe thead th {\n",
       "        text-align: right;\n",
       "    }\n",
       "</style>\n",
       "<table border=\"1\" class=\"dataframe\">\n",
       "  <thead>\n",
       "    <tr style=\"text-align: right;\">\n",
       "      <th></th>\n",
       "      <th>Sentiment</th>\n",
       "      <th>processed_text</th>\n",
       "    </tr>\n",
       "  </thead>\n",
       "  <tbody>\n",
       "    <tr>\n",
       "      <th>0</th>\n",
       "      <td>4</td>\n",
       "      <td>mobo pro only</td>\n",
       "    </tr>\n",
       "    <tr>\n",
       "      <th>1</th>\n",
       "      <td>4</td>\n",
       "      <td>ye liger crd scene</td>\n",
       "    </tr>\n",
       "    <tr>\n",
       "      <th>2</th>\n",
       "      <td>4</td>\n",
       "      <td>draz per qafi saste ray aen</td>\n",
       "    </tr>\n",
       "    <tr>\n",
       "      <th>3</th>\n",
       "      <td>4</td>\n",
       "      <td>inka original crds performance kitna frq</td>\n",
       "    </tr>\n",
       "    <tr>\n",
       "      <th>4</th>\n",
       "      <td>4</td>\n",
       "      <td>moammad faad kisi ni btaya</td>\n",
       "    </tr>\n",
       "  </tbody>\n",
       "</table>\n",
       "</div>"
      ],
      "text/plain": [
       "   Sentiment                            processed_text\n",
       "0          4                             mobo pro only\n",
       "1          4                        ye liger crd scene\n",
       "2          4               draz per qafi saste ray aen\n",
       "3          4  inka original crds performance kitna frq\n",
       "4          4                moammad faad kisi ni btaya"
      ]
     },
     "execution_count": 8,
     "metadata": {},
     "output_type": "execute_result"
    }
   ],
   "source": [
    "def decontracted(word):\n",
    "    # https://www.kaggle.com/smat26/sentiment-analysis-on-roman-urdu\n",
    "    import re\n",
    "    import bs4 as bs\n",
    "    # import re\n",
    "\n",
    "    word = re.sub(r'ain$', r'ein', word)\n",
    "    word = re.sub(r'ai', r'ae', word)\n",
    "    word = re.sub(r'ay$', r'e', word)\n",
    "    word = re.sub(r'ey$', r'e', word)\n",
    "    word = re.sub(r'ie$', r'y', word)\n",
    "    word = re.sub(r'^es', r'is', word)\n",
    "    word = re.sub(r'a+', r'a', word)\n",
    "    word = re.sub(r'j+', r'j', word)\n",
    "    word = re.sub(r'd+', r'd', word)\n",
    "    word = re.sub(r'u', r'o', word)\n",
    "    word = re.sub(r'o+', r'o', word)\n",
    "    word = re.sub(r'ee+', r'i', word)\n",
    "    if not re.match(r'ar', word):\n",
    "        word = re.sub(r'ar', r'r', word)\n",
    "        word = re.sub(r'iy+', r'i', word)\n",
    "        word = re.sub(r'ih+', r'eh', word)\n",
    "        word = re.sub(r's+', r's', word)\n",
    "    if re.search(r'[rst]y', 'word') and word[-1] != 'y':\n",
    "        word = re.sub(r'y', r'i', word)\n",
    "    if re.search(r'[bcdefghijklmnopqrtuvwxyz]i', word):\n",
    "        word = re.sub(r'i$', r'y', word)\n",
    "    if re.search(r'[acefghijlmnoqrstuvwxyz]h', word):\n",
    "        word = re.sub(r'h', '', word)\n",
    "        word = re.sub(r'k', r'q', word)\n",
    "        \n",
    "    word = re.sub(r'\\#\\.', '', word)\n",
    "    word = re.sub(r'\\n', '', word)\n",
    "    word = re.sub(r',', '', word)\n",
    "    word = re.sub(r'\\-', ' ', word)\n",
    "    word = re.sub(r'\\.', '', word)\n",
    "    word = re.sub(r'\\\\', ' ', word)\n",
    "    word = re.sub(r'\\\\x\\.+', '', word)\n",
    "    word = re.sub(r'\\d', '', word)\n",
    "    word = re.sub(r'^_.', '', word)\n",
    "    word = re.sub(r'_', ' ', word)\n",
    "    word = re.sub(r'^ ', '', word)\n",
    "    word = re.sub(r' $', '', word)\n",
    "    word = re.sub(r'\\?', '', word)\n",
    "    \n",
    "    # Remove HTML tags\n",
    "    word = re.sub(r\"http\\S+\", \"\", word)\n",
    "    word = bs.BeautifulSoup(word, 'lxml').get_text()\n",
    "\n",
    "    # Remove numeric values including alphanueric value\n",
    "    word = re.sub(\"\\S*\\d\\S*\", \"\", word).strip()\n",
    "\n",
    "    # Remove special chars\n",
    "    word = re.sub('[^A-Za-z]+', ' ', word)\n",
    "    return word.lower()\n",
    "    \n",
    "def lemmatizing(text):\n",
    "    from nltk.stem import WordNetLemmatizer\n",
    "    from nltk import word_tokenize\n",
    "\n",
    "    lemmatizer = WordNetLemmatizer()\n",
    "    tokens = word_tokenize(text)\n",
    "    for i in range(len(tokens)):\n",
    "        lemma_word = lemmatizer.lemmatize(tokens[i])\n",
    "        tokens[i] = lemma_word\n",
    "    return \" \".join(tokens)\n",
    "\n",
    "def text_preprocessing(df_text):\n",
    "    from tqdm import tqdm\n",
    "    \n",
    "    preprocessed_msg = []\n",
    "    # tqdm is for printing the status bar\n",
    "    for sentance in tqdm(df_text.values):\n",
    "        # Remove undesired chars\n",
    "        sentance = decontracted(sentance)\n",
    "        sentance = lemmatizing(sentance)\n",
    "\n",
    "        # Stop words\n",
    "        ## https://deepnote.com/@umaimakhh/Sentimental-Analysis-on-Roman-Urdu-CYPLZfCxTjWGLxWzS2BaDg\n",
    "        ## some words like Mein - Ma - Maa\n",
    "        stopwords= ['uski', 'krna', 'kch', 'gai', 'raha', 'you', 'le', 'ki', 'krta', 'ga', 'jo', 'haan', 'de',\n",
    "                    'hun', 'ho', 'meri', 'is', 'nai', 'jee', 'lg', 'dain', 'hoa', 'jati', 'jana', 'rahi', 'kar', 'tou',\n",
    "                    'photo', 'rha', 'ayi', 'wala', 'lye', 'kis', 'sy', 'ne', 'wohi', 'gy', 'gi', 'ny', 'hi', 'ab', 'gaya',\n",
    "                    'je', 'hotay', 'jata', 'pe', 'hota', 'aye', 'me', 'tha', 'rahay', 'rhy', 'gya', 'us', 'thay', 'bhi',\n",
    "                    'liye', 'sent', 'hai', 'aur', 'thi', 'jye', 'dono', 'phr', 'yehi', 'to', 'na', 'main', 'abi', 'hum',\n",
    "                    'koi', 'hova', 'hain', 'ja', 'un', 'par', 'kafi', 'kr', 'hy', 'karna', 'h', 'krny', 'wo', 'kay', 'acha',\n",
    "                    'mil', 'jb', 'ya', 'kya', 'ai', 'kuch', 'se', 'woh', 'thy', 'ap', 'houn', 'hay', 'sb', 'ka', 'he', 'han',\n",
    "                    'chal', 'in', 'waisay', 'aese', 'hui', 'or', 'tu', 'ko', 'yeh']\n",
    "\n",
    "        \n",
    "        sentance = ' '.join(e.lower() for e in sentance.split() if e.lower() not in stopwords)\n",
    "\n",
    "        # Append processed sentense to list\n",
    "        preprocessed_msg.append(sentance.strip())\n",
    "        \n",
    "    return preprocessed_msg\n",
    "        \n",
    "df['processed_text'] = text_preprocessing(df['Text'].astype(\"str\"))\n",
    "df.drop('Text', axis=1, inplace=True)\n",
    "df.head()"
   ]
  },
  {
   "cell_type": "code",
   "execution_count": 9,
   "id": "cf02802c-42ef-4a7d-8c4e-fef22d602957",
   "metadata": {},
   "outputs": [
    {
     "data": {
      "text/plain": [
       "['data/01_processed_data.joblib']"
      ]
     },
     "execution_count": 9,
     "metadata": {},
     "output_type": "execute_result"
    }
   ],
   "source": [
    "os.chdir(main_dir)\n",
    "joblib.dump(df, 'data/01_processed_data.joblib')"
   ]
  },
  {
   "cell_type": "markdown",
   "id": "83bb5eb3-6a19-4480-ae0c-7a94bec837f4",
   "metadata": {},
   "source": [
    "## 4. Handling Imbalanced Data"
   ]
  },
  {
   "cell_type": "code",
   "execution_count": 10,
   "id": "930bc7f6-a9ef-42a0-89a9-5ba94ab71712",
   "metadata": {},
   "outputs": [],
   "source": [
    "df = joblib.load('data/01_processed_data.joblib')"
   ]
  },
  {
   "cell_type": "code",
   "execution_count": 3,
   "id": "11f17558-7eab-4a7a-ac43-9a04e23ab9ce",
   "metadata": {},
   "outputs": [],
   "source": [
    "import nlpaug.augmenter.word.context_word_embs as aug\n",
    "\n",
    "augmenter = aug.ContextualWordEmbsAug(model_path='bert-base-uncased', action=\"insert\")"
   ]
  },
  {
   "cell_type": "code",
   "execution_count": 12,
   "id": "d8200e07-8096-4687-8bde-6cd4ad6d04ae",
   "metadata": {},
   "outputs": [
    {
     "data": {
      "text/plain": [
       "4    13904\n",
       "2     5601\n",
       "1     4912\n",
       "3      477\n",
       "Name: Sentiment, dtype: int64"
      ]
     },
     "execution_count": 12,
     "metadata": {},
     "output_type": "execute_result"
    }
   ],
   "source": [
    "df['Sentiment'].value_counts()"
   ]
  },
  {
   "cell_type": "markdown",
   "id": "9e38ace3-13e6-49d7-a6e1-7ca6fab5bbf2",
   "metadata": {},
   "source": [
    "#### Data Augmentation"
   ]
  },
  {
   "cell_type": "code",
   "execution_count": 5,
   "id": "fdcec055-7f2f-4fa3-ba22-ef05291970b7",
   "metadata": {},
   "outputs": [],
   "source": [
    "def augmentMyData(df, augmenter, repetitions=1, samples=200):\n",
    "    from sklearn.utils import shuffle\n",
    "    augmented_texts = []\n",
    "    # select only the minority class samples\n",
    "    spam_df = df[df['Sentiment'] == 3].reset_index(drop=True) # removes unecessary index column\n",
    "    for i in tqdm(np.random.randint(0, len(spam_df), samples)):\n",
    "        # generating 'n_samples' augmented texts\n",
    "        for _ in range(repetitions):\n",
    "            augmented_text = augmenter.augment(spam_df['processed_text'].iloc[i])\n",
    "            augmented_texts.append(augmented_text)\n",
    "    \n",
    "    data = {\n",
    "        'Sentiment': 3,\n",
    "        'processed_text': augmented_texts\n",
    "    }\n",
    "    \n",
    "    aug_df = pd.DataFrame(data)\n",
    "    df = shuffle(df.append(aug_df).reset_index(drop=True))\n",
    "    return df"
   ]
  },
  {
   "cell_type": "code",
   "execution_count": 6,
   "id": "b7dc365a-320b-40fd-93f5-7249c777060c",
   "metadata": {},
   "outputs": [
    {
     "data": {
      "application/vnd.jupyter.widget-view+json": {
       "model_id": "877502b74d344cdba5d876262f4a10a9",
       "version_major": 2,
       "version_minor": 0
      },
      "text/plain": [
       "  0%|          | 0/3000 [00:00<?, ?it/s]"
      ]
     },
     "metadata": {},
     "output_type": "display_data"
    }
   ],
   "source": [
    "aug_df = augmentMyData(df, augmenter, samples=3000)"
   ]
  },
  {
   "cell_type": "code",
   "execution_count": 2,
   "id": "f397eada-6727-4727-8861-d8537a8352ea",
   "metadata": {},
   "outputs": [],
   "source": [
    "# aug_df['Sentiment'].value_counts()"
   ]
  },
  {
   "cell_type": "code",
   "execution_count": 8,
   "id": "3cc91fea-70ad-42b5-86ba-ad88b3afd962",
   "metadata": {},
   "outputs": [
    {
     "data": {
      "text/plain": [
       "['data/02_aug_data.joblib']"
      ]
     },
     "execution_count": 8,
     "metadata": {},
     "output_type": "execute_result"
    }
   ],
   "source": [
    "joblib.dump(aug_df, 'data/02_aug_data.joblib')"
   ]
  },
  {
   "cell_type": "markdown",
   "id": "3cc9ced0-7e6a-4b09-a15d-1f94b696c2e4",
   "metadata": {},
   "source": [
    "### Donwsampling"
   ]
  },
  {
   "cell_type": "code",
   "execution_count": 2,
   "id": "05c20896-3e29-4412-94c0-1671d2fb0c8d",
   "metadata": {},
   "outputs": [],
   "source": [
    "df = joblib.load('data/01_processed_data.joblib')#02_aug_data.joblib')"
   ]
  },
  {
   "cell_type": "code",
   "execution_count": 3,
   "id": "4c7dfc51-93d9-4f9f-8157-415d1b87bcde",
   "metadata": {},
   "outputs": [],
   "source": [
    "df1 = df[df['Sentiment']==1][:4920]\n",
    "df2 = df[df['Sentiment']==2][:4920]\n",
    "# df3 = df[df['Sentiment']==3][:4920]\n",
    "df4 = df[df['Sentiment']==4][:4920]\n",
    "\n",
    "\n",
    "df.loc[df['Sentiment']==1,\"Class\"] = 0\n",
    "df.loc[df['Sentiment']==2,\"Class\"] = 1\n",
    "df.loc[df['Sentiment']==4,\"Class\"] = 2\n",
    "\n",
    "dff = pd.concat([df1, df2,df4])# df3, df4])\n",
    "# dff = dff.sample(frac=1).reset_index(drop=True)"
   ]
  },
  {
   "cell_type": "code",
   "execution_count": null,
   "id": "a5893903-220e-4d26-b9e9-9a333340b30c",
   "metadata": {},
   "outputs": [],
   "source": []
  },
  {
   "cell_type": "code",
   "execution_count": 4,
   "id": "c8d17347-9769-4dfa-a6d8-08066c8e6fcf",
   "metadata": {},
   "outputs": [
    {
     "data": {
      "text/plain": [
       "2    4920\n",
       "4    4920\n",
       "1    4912\n",
       "Name: Sentiment, dtype: int64"
      ]
     },
     "execution_count": 4,
     "metadata": {},
     "output_type": "execute_result"
    }
   ],
   "source": [
    "dff['Sentiment'].value_counts()"
   ]
  },
  {
   "cell_type": "code",
   "execution_count": 5,
   "id": "109fdb89-3897-46a8-8065-76a4fc464ade",
   "metadata": {},
   "outputs": [
    {
     "data": {
      "text/plain": [
       "['data/03_resampled_data.joblib']"
      ]
     },
     "execution_count": 5,
     "metadata": {},
     "output_type": "execute_result"
    }
   ],
   "source": [
    "joblib.dump(dff, 'data/03_resampled_data.joblib')"
   ]
  },
  {
   "cell_type": "code",
   "execution_count": null,
   "id": "fcb5f8c0-9f4a-4bb5-96eb-27ccb9f284bb",
   "metadata": {},
   "outputs": [],
   "source": []
  },
  {
   "cell_type": "code",
   "execution_count": null,
   "id": "6b578565-93d8-4ad2-a135-9345729f7363",
   "metadata": {},
   "outputs": [],
   "source": []
  },
  {
   "cell_type": "code",
   "execution_count": 2,
   "id": "64d725a2-264d-4c4e-aba9-f347bd505025",
   "metadata": {},
   "outputs": [],
   "source": [
    "df = joblib.load('data/03_resampled_data.joblib')"
   ]
  },
  {
   "cell_type": "code",
   "execution_count": 3,
   "id": "aec1eef3-27cb-4291-a650-56de9c22563f",
   "metadata": {},
   "outputs": [
    {
     "data": {
      "text/plain": [
       "2    4920\n",
       "4    4920\n",
       "1    4912\n",
       "Name: Sentiment, dtype: int64"
      ]
     },
     "execution_count": 3,
     "metadata": {},
     "output_type": "execute_result"
    }
   ],
   "source": [
    "df['Sentiment'].value_counts()"
   ]
  },
  {
   "cell_type": "code",
   "execution_count": 4,
   "id": "2f1dd45e-5ec6-4f45-bc1b-181920e11715",
   "metadata": {},
   "outputs": [
    {
     "data": {
      "text/plain": [
       "1    4920\n",
       "2    4920\n",
       "0    4912\n",
       "Name: Sentiment, dtype: int64"
      ]
     },
     "execution_count": 4,
     "metadata": {},
     "output_type": "execute_result"
    }
   ],
   "source": [
    "df.loc[df['Sentiment']==1,\"Sentiment\"] = 0 # positive\n",
    "df.loc[df['Sentiment']==2,\"Sentiment\"] = 1 # negative\n",
    "df.loc[df['Sentiment']==4,\"Sentiment\"] = 2 # neural\n",
    "\n",
    "df['Sentiment'].value_counts()"
   ]
  },
  {
   "cell_type": "code",
   "execution_count": 5,
   "id": "e075a465-6b22-4f79-a0f2-1d481346a214",
   "metadata": {},
   "outputs": [],
   "source": [
    "Y = df['Sentiment'].values\n",
    "X = df['processed_text']\n",
    "\n",
    "# https://scikit-learn.org/stable/modules/generated/sklearn.model_selection.train_test_split.html\n",
    "from sklearn.model_selection import train_test_split\n",
    "\n",
    "# Random sampling\n",
    "X_train, X_test, y_train, y_test = train_test_split(X, Y, test_size=0.20) "
   ]
  },
  {
   "cell_type": "code",
   "execution_count": null,
   "id": "921d4684-0940-4cb6-ac85-79c0a9630e87",
   "metadata": {},
   "outputs": [],
   "source": []
  },
  {
   "cell_type": "code",
   "execution_count": 6,
   "id": "fe40b11f-ef22-447a-b6a0-0e77fb207433",
   "metadata": {},
   "outputs": [
    {
     "name": "stdout",
     "output_type": "stream",
     "text": [
      "(11801, 1000)\n",
      "(2951, 1000)\n"
     ]
    }
   ],
   "source": [
    "from sklearn.feature_extraction.text import TfidfVectorizer\n",
    "# from sklearn.metrics import confusion_matrix, accuracy_score, classification_report\n",
    "\n",
    "vectorizer = TfidfVectorizer(max_features=1000)\n",
    "X_train = vectorizer.fit_transform(X_train)\n",
    "X_train = X_train.toarray()\n",
    "print(X_train.shape)\n",
    "\n",
    "X_test = vectorizer.transform(X_test)\n",
    "X_test = X_test.toarray()\n",
    "print(X_test.shape)"
   ]
  },
  {
   "cell_type": "code",
   "execution_count": 6,
   "id": "04a1fba1-39e0-4492-9648-fb6951b3740e",
   "metadata": {},
   "outputs": [],
   "source": [
    "def BestMLAlgo(nlp_model, x_train, x_test, y_train, y_test):\n",
    "    \"\"\"Identify best Algo on given dataset\"\"\"\n",
    "    from prettytable import PrettyTable\n",
    "    \n",
    "    table = PrettyTable()\n",
    "    table.field_names = [\"Vect\", \"Model\", \"Accuracy\", \"Precision\", \"Recall\", \"F1Score\", \"Log loss\", \"Roc Auc\"]\n",
    "                        \n",
    "    import warnings\n",
    "    warnings.filterwarnings(\"ignore\")\n",
    "    from sklearn.neighbors import KNeighborsClassifier\n",
    "    from sklearn.naive_bayes import MultinomialNB\n",
    "    from sklearn.linear_model import LogisticRegression\n",
    "    from sklearn.tree import DecisionTreeClassifier\n",
    "    from sklearn.ensemble import RandomForestClassifier\n",
    "    from sklearn.ensemble import AdaBoostClassifier\n",
    "    from sklearn.ensemble import GradientBoostingClassifier\n",
    "    from sklearn.linear_model import SGDClassifier\n",
    "    from sklearn.calibration import CalibratedClassifierCV\n",
    "    import xgboost\n",
    "    from sklearn import svm\n",
    "    from sklearn.metrics import precision_score, accuracy_score, roc_auc_score,\\\n",
    "                                roc_curve, auc, log_loss, recall_score\n",
    "    \n",
    "    base_models = {\n",
    "        'kNN': KNeighborsClassifier(),\n",
    "        'Naive Bayes': MultinomialNB(),\n",
    "        'Log. Reg.': LogisticRegression(),\n",
    "        'SVM Linear': SGDClassifier(class_weight='balanced', penalty='l2', loss='hinge', random_state=42),\n",
    "        'SVM Non-linear': svm.SVC(kernel='rbf'),\n",
    "        'Decision Tree': DecisionTreeClassifier(),\n",
    "        'Random Forest': RandomForestClassifier(),\n",
    "        'Gradient Boost': GradientBoostingClassifier(),\n",
    "        'Ada Boost': AdaBoostClassifier(),\n",
    "        'xgboost': xgboost.XGBClassifier(),\n",
    "    }          \n",
    "        \n",
    "    for model_name, model in base_models.items():\n",
    "        model.fit(x_train, y_train)\n",
    "        model = CalibratedClassifierCV(model, method=\"sigmoid\")\n",
    "        model.fit(x_train, y_train)\n",
    "        y_pred_proba = model.predict_proba(x_test)\n",
    "        y_pred = model.predict(x_test)\n",
    "            \n",
    "        # Performance metrics\n",
    "        accuracy        = round(accuracy_score(y_test, y_pred), 2)\n",
    "        precision       = round(precision_score(y_test, y_pred, average='micro'), 2)\n",
    "        recall          = round(recall_score(y_test, y_pred, average='micro'), 2)\n",
    "        f1_score        = round((2*recall*precision)/(recall+precision), 2)\n",
    "        loss            = round(log_loss(y_test, y_pred_proba, eps=1e-15), 2) # , labels=model.classes\n",
    "        roc_auc         = round(roc_auc_score(y_test, y_pred_proba, multi_class=\"ovr\"), 2)        \n",
    "        \n",
    "        table.add_row([nlp_model, model_name, accuracy, precision, recall, f1_score, loss, roc_auc])\n",
    "    print(table)"
   ]
  },
  {
   "cell_type": "code",
   "execution_count": 7,
   "id": "636253d5-c451-49f9-8cc6-6735362911b9",
   "metadata": {},
   "outputs": [
    {
     "name": "stdout",
     "output_type": "stream",
     "text": [
      "[10:35:49] WARNING: ../src/learner.cc:1115: Starting in XGBoost 1.3.0, the default evaluation metric used with the objective 'multi:softprob' was changed from 'merror' to 'mlogloss'. Explicitly set eval_metric if you'd like to restore the old behavior.\n",
      "[10:36:39] WARNING: ../src/learner.cc:1115: Starting in XGBoost 1.3.0, the default evaluation metric used with the objective 'multi:softprob' was changed from 'merror' to 'mlogloss'. Explicitly set eval_metric if you'd like to restore the old behavior.\n",
      "[10:37:22] WARNING: ../src/learner.cc:1115: Starting in XGBoost 1.3.0, the default evaluation metric used with the objective 'multi:softprob' was changed from 'merror' to 'mlogloss'. Explicitly set eval_metric if you'd like to restore the old behavior.\n",
      "[10:38:04] WARNING: ../src/learner.cc:1115: Starting in XGBoost 1.3.0, the default evaluation metric used with the objective 'multi:softprob' was changed from 'merror' to 'mlogloss'. Explicitly set eval_metric if you'd like to restore the old behavior.\n",
      "[10:38:47] WARNING: ../src/learner.cc:1115: Starting in XGBoost 1.3.0, the default evaluation metric used with the objective 'multi:softprob' was changed from 'merror' to 'mlogloss'. Explicitly set eval_metric if you'd like to restore the old behavior.\n",
      "[10:39:30] WARNING: ../src/learner.cc:1115: Starting in XGBoost 1.3.0, the default evaluation metric used with the objective 'multi:softprob' was changed from 'merror' to 'mlogloss'. Explicitly set eval_metric if you'd like to restore the old behavior.\n",
      "+-------+----------------+----------+-----------+--------+---------+----------+---------+\n",
      "|  Vect |     Model      | Accuracy | Precision | Recall | F1Score | Log loss | Roc Auc |\n",
      "+-------+----------------+----------+-----------+--------+---------+----------+---------+\n",
      "| TFIDF |      kNN       |   0.5    |    0.5    |  0.5   |   0.5   |   0.99   |   0.69  |\n",
      "| TFIDF |  Naive Bayes   |   0.63   |    0.63   |  0.63  |   0.63  |   0.8    |   0.82  |\n",
      "| TFIDF |   Log. Reg.    |   0.66   |    0.66   |  0.66  |   0.66  |   0.78   |   0.83  |\n",
      "| TFIDF |   SVM Linear   |   0.65   |    0.65   |  0.65  |   0.65  |   0.78   |   0.83  |\n",
      "| TFIDF | SVM Non-linear |   0.66   |    0.66   |  0.66  |   0.66  |   0.82   |   0.82  |\n",
      "| TFIDF | Decision Tree  |   0.58   |    0.58   |  0.58  |   0.58  |   0.93   |   0.76  |\n",
      "| TFIDF | Random Forest  |   0.64   |    0.64   |  0.64  |   0.64  |   0.81   |   0.82  |\n",
      "| TFIDF | Gradient Boost |   0.63   |    0.63   |  0.63  |   0.63  |   0.87   |   0.8   |\n",
      "| TFIDF |   Ada Boost    |   0.59   |    0.59   |  0.59  |   0.59  |   0.99   |   0.74  |\n",
      "| TFIDF |    xgboost     |   0.66   |    0.66   |  0.66  |   0.66  |   0.79   |   0.82  |\n",
      "+-------+----------------+----------+-----------+--------+---------+----------+---------+\n"
     ]
    }
   ],
   "source": [
    "BestMLAlgo(\"TFIDF\", X_train, X_test, y_train, y_test)"
   ]
  },
  {
   "cell_type": "code",
   "execution_count": 8,
   "id": "878fa62d-a174-4141-aadc-2df608a55e22",
   "metadata": {},
   "outputs": [],
   "source": [
    "from sklearn.linear_model import LogisticRegression\n",
    "from sklearn.metrics import roc_auc_score, roc_curve, auc \\\n",
    "                , accuracy_score, classification_report\n",
    "import matplotlib.pyplot as plt\n",
    "from sklearn.preprocessing import StandardScaler\n",
    "from sklearn.model_selection import RandomizedSearchCV\n",
    "from sklearn.model_selection import GridSearchCV\n",
    "from scipy.sparse.csr import csr_matrix\n",
    "import seaborn as sns"
   ]
  },
  {
   "cell_type": "code",
   "execution_count": 29,
   "id": "1024b324-a3a8-4b38-919b-94a74dc69144",
   "metadata": {},
   "outputs": [],
   "source": [
    "# This function plots the confusion matrices given y_i, y_i_hat.\n",
    "def plot_confusion_matrix(test_y, predict_y):\n",
    "    from sklearn.metrics import confusion_matrix\n",
    "\n",
    "        \n",
    "    C = confusion_matrix(test_y, predict_y)\n",
    "    # C = 9,9 matrix, each cell (i,j) represents number of points of class i are predicted class j\n",
    "    \n",
    "    A =(((C.T)/(C.sum(axis=1))).T)\n",
    "    #divid each element of the confusion matrix with the sum of elements in that column\n",
    "    \n",
    "    # C = [[1, 2],\n",
    "    #     [3, 4]]\n",
    "    # C.T = [[1, 3],\n",
    "    #        [2, 4]]\n",
    "    # C.sum(axis = 1)  axis=0 corresonds to columns and axis=1 corresponds to rows in two diamensional array\n",
    "    # C.sum(axix =1) = [[3, 7]]\n",
    "    # ((C.T)/(C.sum(axis=1))) = [[1/3, 3/7]\n",
    "    #                           [2/3, 4/7]]\n",
    "\n",
    "    # ((C.T)/(C.sum(axis=1))).T = [[1/3, 2/3]\n",
    "    #                           [3/7, 4/7]]\n",
    "    # sum of row elements = 1\n",
    "    \n",
    "    B =(C/C.sum(axis=0))\n",
    "    #divid each element of the confusion matrix with the sum of elements in that row\n",
    "    # C = [[1, 2],\n",
    "    #     [3, 4]]\n",
    "    # C.sum(axis = 0)  axis=0 corresonds to columns and axis=1 corresponds to rows in two diamensional array\n",
    "    # C.sum(axix =0) = [[4, 6]]\n",
    "    # (C/C.sum(axis=0)) = [[1/4, 2/6],\n",
    "    #                      [3/4, 4/6]] \n",
    "    \n",
    "    labels = [0,1,2]\n",
    "    # representing A in heatmap format\n",
    "    print(\"-\"*20, \"Confusion matrix\", \"-\"*20)\n",
    "    plt.figure(figsize=(10,7))\n",
    "    sns.heatmap(C, annot=True, cmap=\"YlGnBu\", fmt=\".3f\", xticklabels=labels, yticklabels=labels)\n",
    "    plt.xlabel('Predicted Class')\n",
    "    plt.ylabel('Original Class')\n",
    "    plt.show()\n",
    "\n",
    "    print(\"-\"*20, \"Precision matrix (Columm Sum=1)\", \"-\"*20)\n",
    "    plt.figure(figsize=(10,7))\n",
    "    sns.heatmap(B, annot=True, cmap=\"YlGnBu\", fmt=\".3f\", xticklabels=labels, yticklabels=labels)\n",
    "    plt.xlabel('Predicted Class')\n",
    "    plt.ylabel('Original Class')\n",
    "    plt.show()\n",
    "    \n",
    "    # representing B in heatmap format\n",
    "    print(\"-\"*20, \"Recall matrix (Row sum=1)\", \"-\"*20)\n",
    "    plt.figure(figsize=(10,7))\n",
    "    sns.heatmap(A, annot=True, cmap=\"YlGnBu\", fmt=\".3f\", xticklabels=labels, yticklabels=labels)\n",
    "    plt.xlabel('Predicted Class')\n",
    "    plt.ylabel('Original Class')\n",
    "    plt.show()\n",
    "\n"
   ]
  },
  {
   "cell_type": "code",
   "execution_count": 25,
   "id": "7f8b3af3-8aa7-4e43-864a-0432068bcad6",
   "metadata": {},
   "outputs": [],
   "source": [
    "def LR_Classifier(X_train, y_train, regOpt):\n",
    "    cList = np.array([0.0001, 0.0005, 0.001, 0.005, 0.01, 0.05, 0.1, 0.5, \\\n",
    "                        1, 10, 50, 100, 500, 1000, 5000, 10000])\n",
    "    params_dict = [{'C': cList}]\n",
    "\n",
    "    # Setting solver param\n",
    "    if regOpt == \"l1\":\n",
    "        sol = 'liblinear'\n",
    "    elif regOpt == \"l2\":\n",
    "        sol = 'lbfgs'\n",
    "    lr_optimal = LogisticRegression(penalty=regOpt, solver=sol)\n",
    "    \n",
    "    grid = GridSearchCV(estimator=lr_optimal, \n",
    "                        param_grid=params_dict,\n",
    "#                           param_distributions=params_dict, \n",
    "                        scoring='f1_micro', n_jobs=4, cv=5,  \n",
    "                        return_train_score=True\n",
    "                       )\n",
    "    \n",
    "    grid_result = grid.fit(X_train, y_train)\n",
    "    train_auc = grid_result.cv_results_['mean_train_score']\n",
    "    train_auc_std = grid_result.cv_results_['std_train_score']\n",
    "    cv_auc = grid_result.cv_results_['mean_test_score']\n",
    "    cv_auc_std = grid_result.cv_results_['std_test_score']\n",
    "    \n",
    "    print(\"Optimal Parameters : \", grid_result.best_estimator_.get_params())\n",
    "    \n",
    "    plt.figure(figsize=(10.0, 8.0))\n",
    "    plt.plot(np.log10(cList), train_auc, label='Train AUC micro vs C')\n",
    "    # this code is copied from here: https://stackoverflow.com/a/48803361/4084039\n",
    "    plt.gca().fill_between(np.log10(cList), train_auc - train_auc_std, \n",
    "                          train_auc + train_auc_std, alpha=0.2, color='darkblue')\n",
    "    \n",
    "    plt.plot(np.log10(cList), cv_auc, label='CV AUC micro vs C')\n",
    "    plt.gca().fill_between(np.log10(cList), cv_auc - cv_auc_std, \n",
    "                          cv_auc + cv_auc_std, alpha=0.2, color='darkorange')\n",
    "    \n",
    "    plt.title('Area under  AUC vs C')\n",
    "    plt.xlabel('C')\n",
    "    plt.ylabel('Area')\n",
    "    plt.legend(loc='lower left')\n",
    "    plt.show()    \n",
    "    \n",
    "    return grid_result.best_estimator_.get_params()['C']"
   ]
  },
  {
   "cell_type": "code",
   "execution_count": 23,
   "id": "334eb299-c06d-4fe6-a82d-2b629264fc32",
   "metadata": {},
   "outputs": [],
   "source": [
    "def LR_Classifier_Test(cValue, regOpt, X_train, y_train, X_test, y_test):\n",
    "    # Setting up the classifier using optimal params\n",
    "    \n",
    "    # Setting solver param\n",
    "    if regOpt == \"l1\":\n",
    "        sol = 'liblinear'\n",
    "    elif regOpt == \"l2\":\n",
    "        sol = 'lbfgs'\n",
    "    \n",
    "    lr_optimal = LogisticRegression(C=cValue, penalty=regOpt, solver=sol)\n",
    "    lr_optimal.fit(X_train, y_train)\n",
    "\n",
    "    # Prediction on training and test set using optimal classifier\n",
    "    logProb_train = lr_optimal.predict_log_proba(X_train)\n",
    "    logProb_test = lr_optimal.predict_log_proba(X_test)\n",
    "    pred_train = np.argmax(logProb_train, axis =1)\n",
    "    pred_test = np.argmax(logProb_test, axis =1)\n",
    "    print(\"Using C value for LR - \", cValue)\n",
    "    print(\"Train accuracy for optimal LR \", round(accuracy_score(y_train, pred_train)*100, 2))\n",
    "    print(\"Test accuracy for optimal LR \", round(accuracy_score(y_test, pred_test) * 100, 2))\n",
    "\n",
    "    # ROC-AUC on train & test data\n",
    "    train_fpr, train_tpr, thresholds = roc_curve(y_train, logProb_train[:, 1], pos_label=1)\n",
    "    test_fpr, test_tpr, thresholds = roc_curve(y_test, logProb_test[:, 1], pos_label=1)\n",
    "\n",
    "\n",
    "    # Draw ROC curve\n",
    "    plt.plot(train_fpr, train_tpr, label=\"Train AUC = \"+str(round(auc(train_fpr, train_tpr), 2)))\n",
    "    auc_score = round(auc(test_fpr, test_tpr), 2)\n",
    "    plt.plot(test_fpr, test_tpr, label=\"Test AUC = \"+str(auc_score))\n",
    "    plt.legend()\n",
    "    plt.xlabel(\"False Pos Rate\")\n",
    "    plt.ylabel(\"True Pos Rate\")\n",
    "    plt.title(\"ROC Curve of Train and Test\")\n",
    "    plt.show()\n",
    "    \n",
    "    return lr_optimal, pred_train, pred_test, auc_score"
   ]
  },
  {
   "cell_type": "code",
   "execution_count": 31,
   "id": "78da78ac-9d54-4441-90b5-b39a6c884d70",
   "metadata": {},
   "outputs": [],
   "source": [
    "def log_reg_applied(optimal_param, reg_opt, nlp_algorithm, X_train, y_train, X_test, y_test):\n",
    "    classifier, pred_train, pred_test, auc_score = LR_Classifier_Test(\n",
    "                                    optimal_param, reg_opt,\n",
    "                                    X_train, y_train, X_test, y_test)\n",
    "    \n",
    "    print(\"Training Confusion Matrix\")\n",
    "    plot_confusion_matrix(y_train, pred_train)\n",
    "    print('\\n\\n')\n",
    "\n",
    "    print(\"Test Confusion Matrix\")\n",
    "    plot_confusion_matrix(y_test, pred_test)\n",
    "        \n",
    "    # Classification report \n",
    "    print(classification_report(y_test, pred_test))\n",
    "    \n",
    "    return classifier\n",
    "# , pred_train, pred_test, auc_score"
   ]
  },
  {
   "cell_type": "code",
   "execution_count": 36,
   "id": "1615aea5-356c-404b-abf9-b7a7074f5a6a",
   "metadata": {},
   "outputs": [
    {
     "name": "stdout",
     "output_type": "stream",
     "text": [
      "Optimal Parameters :  {'C': 1.0, 'class_weight': None, 'dual': False, 'fit_intercept': True, 'intercept_scaling': 1, 'l1_ratio': None, 'max_iter': 100, 'multi_class': 'auto', 'n_jobs': None, 'penalty': 'l1', 'random_state': None, 'solver': 'liblinear', 'tol': 0.0001, 'verbose': 0, 'warm_start': False}\n"
     ]
    },
    {
     "data": {
      "image/png": "[encoded data removed]",
      "text/plain": [
       "<Figure size 720x576 with 1 Axes>"
      ]
     },
     "metadata": {
      "needs_background": "light"
     },
     "output_type": "display_data"
    }
   ],
   "source": [
    "regularization_optimization = 'l1'\n",
    "nlp_model = \"TFIDF\"\n",
    "\n",
    "# Please write all the code with proper documentation\n",
    "optimal_c = LR_Classifier(X_train, y_train, regularization_optimization)"
   ]
  },
  {
   "cell_type": "code",
   "execution_count": 37,
   "id": "82cf84ff-155b-470e-afb3-1c18e35767ad",
   "metadata": {},
   "outputs": [
    {
     "name": "stdout",
     "output_type": "stream",
     "text": [
      "Using C value for LR -  1.0\n",
      "Train accuracy for optimal LR  70.83\n",
      "Test accuracy for optimal LR  65.33\n"
     ]
    },
    {
     "data": {
      "image/png": "[encoded data removed]",
      "text/plain": [
       "<Figure size 432x288 with 1 Axes>"
      ]
     },
     "metadata": {
      "needs_background": "light"
     },
     "output_type": "display_data"
    },
    {
     "name": "stdout",
     "output_type": "stream",
     "text": [
      "Training Confusion Matrix\n",
      "-------------------- Confusion matrix --------------------\n"
     ]
    },
    {
     "data": {
      "image/png": "[encoded data removed]",
      "text/plain": [
       "<Figure size 720x504 with 2 Axes>"
      ]
     },
     "metadata": {
      "needs_background": "light"
     },
     "output_type": "display_data"
    },
    {
     "name": "stdout",
     "output_type": "stream",
     "text": [
      "-------------------- Precision matrix (Columm Sum=1) --------------------\n"
     ]
    },
    {
     "data": {
      "image/png": "[encoded data removed]",
      "text/plain": [
       "<Figure size 720x504 with 2 Axes>"
      ]
     },
     "metadata": {
      "needs_background": "light"
     },
     "output_type": "display_data"
    },
    {
     "name": "stdout",
     "output_type": "stream",
     "text": [
      "-------------------- Recall matrix (Row sum=1) --------------------\n"
     ]
    },
    {
     "data": {
      "image/png": "[encoded data removed]",
      "text/plain": [
       "<Figure size 720x504 with 2 Axes>"
      ]
     },
     "metadata": {
      "needs_background": "light"
     },
     "output_type": "display_data"
    },
    {
     "name": "stdout",
     "output_type": "stream",
     "text": [
      "\n",
      "\n",
      "\n",
      "Test Confusion Matrix\n",
      "-------------------- Confusion matrix --------------------\n"
     ]
    },
    {
     "data": {
      "image/png": "[encoded data removed]",
      "text/plain": [
       "<Figure size 720x504 with 2 Axes>"
      ]
     },
     "metadata": {
      "needs_background": "light"
     },
     "output_type": "display_data"
    },
    {
     "name": "stdout",
     "output_type": "stream",
     "text": [
      "-------------------- Precision matrix (Columm Sum=1) --------------------\n"
     ]
    },
    {
     "data": {
      "image/png": "[encoded data removed]",
      "text/plain": [
       "<Figure size 720x504 with 2 Axes>"
      ]
     },
     "metadata": {
      "needs_background": "light"
     },
     "output_type": "display_data"
    },
    {
     "name": "stdout",
     "output_type": "stream",
     "text": [
      "-------------------- Recall matrix (Row sum=1) --------------------\n"
     ]
    },
    {
     "data": {
      "image/png": "[encoded data removed]",
      "text/plain": [
       "<Figure size 720x504 with 2 Axes>"
      ]
     },
     "metadata": {
      "needs_background": "light"
     },
     "output_type": "display_data"
    },
    {
     "name": "stdout",
     "output_type": "stream",
     "text": [
      "              precision    recall  f1-score   support\n",
      "\n",
      "           0       0.79      0.64      0.70       935\n",
      "           1       0.67      0.61      0.64      1036\n",
      "           2       0.56      0.72      0.63       980\n",
      "\n",
      "    accuracy                           0.65      2951\n",
      "   macro avg       0.67      0.65      0.66      2951\n",
      "weighted avg       0.67      0.65      0.66      2951\n",
      "\n"
     ]
    }
   ],
   "source": [
    "cls1 = log_reg_applied(optimal_c, regularization_optimization, nlp_model, X_train, y_train, X_test, y_test)"
   ]
  },
  {
   "cell_type": "code",
   "execution_count": 51,
   "id": "afe6e141-ce6c-4edd-b9dd-0e18bea2c392",
   "metadata": {},
   "outputs": [
    {
     "name": "stdout",
     "output_type": "stream",
     "text": [
      "[2]\n"
     ]
    },
    {
     "data": {
      "text/plain": [
       "array([[0.07639767, 0.17911342, 0.74448892]])"
      ]
     },
     "execution_count": 51,
     "metadata": {},
     "output_type": "execute_result"
    }
   ],
   "source": [
    "# msg = input(\"Enter Message: \")\n",
    "v = vectorizer.transform([\"hamza good\"])\n",
    "print(cls1.predict(v))\n",
    "cls1.predict_proba(v)"
   ]
  },
  {
   "cell_type": "code",
   "execution_count": null,
   "id": "488c7c39-2403-4323-be21-da155fd13299",
   "metadata": {},
   "outputs": [],
   "source": []
  },
  {
   "cell_type": "code",
   "execution_count": null,
   "id": "616e562a-d889-451a-a185-2fccf94ddcc3",
   "metadata": {},
   "outputs": [],
   "source": []
  }
 ],
 "metadata": {
  "kernelspec": {
   "display_name": "Python 3 (ipykernel)",
   "language": "python",
   "name": "python3"
  },
  "language_info": {
   "codemirror_mode": {
    "name": "ipython",
    "version": 3
   },
   "file_extension": ".py",
   "mimetype": "text/x-python",
   "name": "python",
   "nbconvert_exporter": "python",
   "pygments_lexer": "ipython3",
   "version": "3.9.7"
  }
 },
 "nbformat": 4,
 "nbformat_minor": 5
}
