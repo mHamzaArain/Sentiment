{
 "cells": [
  {
   "cell_type": "code",
   "execution_count": 1,
   "id": "e81c3991-519d-496d-a756-1dcd0afd3b4a",
   "metadata": {},
   "outputs": [],
   "source": [
    "import numpy as np\n",
    "import pandas as pd\n",
    "import os\n",
    "import matplotlib.pyplot as plt\n",
    "import joblib\n",
    "from tqdm.auto import tqdm\n",
    "\n",
    "import warnings\n",
    "warnings.filterwarnings(\"ignore\", category=UserWarning) "
   ]
  },
  {
   "cell_type": "code",
   "execution_count": 2,
   "id": "4e2c9c9d-8249-4c4c-85e3-485a0d433be5",
   "metadata": {},
   "outputs": [],
   "source": [
    "# os.chdir('files')"
   ]
  },
  {
   "cell_type": "code",
   "execution_count": 15,
   "id": "8d189c82-c2bd-45c7-9e04-416640f6c52f",
   "metadata": {},
   "outputs": [],
   "source": [
    "def csv_files(all_csv_files): \n",
    "    \"\"\"Locate csv\"\"\"\n",
    "    for path, folder, file_list in os.walk(os.getcwd()):\n",
    "            if len(file_list) > 0:\n",
    "                for file in file_list:\n",
    "                    if file[-4:]  == \".txt\":\n",
    "                        all_csv_files.append(os.path.join(path, file))\n",
    "\n",
    "main_dir = os.getcwd()\n",
    "\n",
    "# Locate csvs\n",
    "all_csv_files = []            \n",
    "\n",
    "# Hamza\n",
    "# os.chdir(\"/home/hamza/Downloads/Hamza's Data\")\n",
    "csv_files(all_csv_files )\n",
    "all_csv_files = list(set(all_csv_files))\n",
    "\n",
    "\n",
    "# Merging all csvs\n",
    "frames = [] \n",
    "for csv_file in all_csv_files:\n",
    "    frames.append(pd.read_fwf(csv_file, header=None))\n",
    "\n",
    "# # df = pd.concat(frames)\n",
    "\n",
    "# print(df.size)\n",
    "# df.head()"
   ]
  },
  {
   "cell_type": "code",
   "execution_count": 17,
   "id": "b5e8521e-ec47-4923-9c11-99fc212c3151",
   "metadata": {},
   "outputs": [
    {
     "data": {
      "text/plain": [
       "0                                    Shame on #foodpanda\n",
       "1                                      Syeda Maryam Zaka\n",
       "2                                     Shame on foodpanda\n",
       "3                               Ya Allah Please Help Him\n",
       "4      You should take care of your employeey shame.....\n",
       "                             ...                        \n",
       "995           Agr kisi k pas number ho to mujhe send kry\n",
       "996    Muhammad Azeem bhai wo har area k team alehda ...\n",
       "997    Bai bekar ki baten jany do jo dhandha chal rha...\n",
       "998                                        Inbox xnt kry\n",
       "999                                      Sab Oor Qureshi\n",
       "Name: 0, Length: 1000, dtype: object"
      ]
     },
     "execution_count": 17,
     "metadata": {},
     "output_type": "execute_result"
    }
   ],
   "source": [
    "frames[0][0]"
   ]
  },
  {
   "cell_type": "code",
   "execution_count": null,
   "id": "96e06cca-a9cc-4040-9d72-c949e021b67e",
   "metadata": {},
   "outputs": [],
   "source": []
  },
  {
   "cell_type": "code",
   "execution_count": null,
   "id": "ef53800f-dcb2-4d15-8968-8325a591db5a",
   "metadata": {},
   "outputs": [],
   "source": []
  },
  {
   "cell_type": "code",
   "execution_count": null,
   "id": "c552cb34-c27b-4c35-a660-167d0c62ea15",
   "metadata": {},
   "outputs": [],
   "source": []
  },
  {
   "cell_type": "code",
   "execution_count": null,
   "id": "000a1df4-3aa5-43cd-9dc0-a65bd7cc40e0",
   "metadata": {},
   "outputs": [],
   "source": []
  },
  {
   "cell_type": "code",
   "execution_count": null,
   "id": "b45a3e8f-631c-4810-9547-fea81d29257e",
   "metadata": {},
   "outputs": [],
   "source": []
  }
 ],
 "metadata": {
  "kernelspec": {
   "display_name": "Python 3 (ipykernel)",
   "language": "python",
   "name": "python3"
  },
  "language_info": {
   "codemirror_mode": {
    "name": "ipython",
    "version": 3
   },
   "file_extension": ".py",
   "mimetype": "text/x-python",
   "name": "python",
   "nbconvert_exporter": "python",
   "pygments_lexer": "ipython3",
   "version": "3.9.7"
  }
 },
 "nbformat": 4,
 "nbformat_minor": 5
}
