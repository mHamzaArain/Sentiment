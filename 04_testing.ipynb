{
 "cells": [
  {
   "cell_type": "code",
   "execution_count": 2,
   "id": "8859386a-0310-4c1b-87ff-55ad21776a37",
   "metadata": {},
   "outputs": [],
   "source": [
    "import pandas as pd\n",
    "import numpy as np\n",
    "import joblib\n",
    "from sklearn.metrics import  classification_report\n",
    "import os"
   ]
  },
  {
   "cell_type": "code",
   "execution_count": 11,
   "id": "38423240-e7fe-4fb8-9792-9093e276019f",
   "metadata": {},
   "outputs": [],
   "source": [
    "file = \"/media/hamza/289875229874EFA4/WORK/annotation/done/txt/04_Mon-31-01-22-Fri-07-02-22/gen_ner_35k_farrukh.txt\" \n",
    "df = pd.read_fwf(file, header=None, usecols=[0])"
   ]
  },
  {
   "cell_type": "code",
   "execution_count": 34,
   "id": "be5adff8-0100-4ce9-bf99-98d89ee1459d",
   "metadata": {},
   "outputs": [],
   "source": [
    "# mask = (len(df[0].lower().split()) <= 30)\n",
    "# df = df.loc[mask]\n",
    "# df.size"
   ]
  },
  {
   "cell_type": "code",
   "execution_count": 4,
   "id": "b8d03da1-fe8f-4e60-89a8-c400e6b53c07",
   "metadata": {},
   "outputs": [
    {
     "name": "stdout",
     "output_type": "stream",
     "text": [
      "Number of data points in our data (734, 2)\n"
     ]
    },
    {
     "data": {
      "text/html": [
       "<div>\n",
       "<style scoped>\n",
       "    .dataframe tbody tr th:only-of-type {\n",
       "        vertical-align: middle;\n",
       "    }\n",
       "\n",
       "    .dataframe tbody tr th {\n",
       "        vertical-align: top;\n",
       "    }\n",
       "\n",
       "    .dataframe thead th {\n",
       "        text-align: right;\n",
       "    }\n",
       "</style>\n",
       "<table border=\"1\" class=\"dataframe\">\n",
       "  <thead>\n",
       "    <tr style=\"text-align: right;\">\n",
       "      <th></th>\n",
       "      <th>Text</th>\n",
       "      <th>Sentiment</th>\n",
       "    </tr>\n",
       "  </thead>\n",
       "  <tbody>\n",
       "    <tr>\n",
       "      <th>0</th>\n",
       "      <td>Tabish Rafiq</td>\n",
       "      <td>NaN</td>\n",
       "    </tr>\n",
       "    <tr>\n",
       "      <th>3</th>\n",
       "      <td>Abir Qureshi</td>\n",
       "      <td>NaN</td>\n",
       "    </tr>\n",
       "    <tr>\n",
       "      <th>5</th>\n",
       "      <td>Jamil Khan</td>\n",
       "      <td>NaN</td>\n",
       "    </tr>\n",
       "    <tr>\n",
       "      <th>6</th>\n",
       "      <td>Javed Afridi</td>\n",
       "      <td>NaN</td>\n",
       "    </tr>\n",
       "    <tr>\n",
       "      <th>7</th>\n",
       "      <td>Malik Bilal</td>\n",
       "      <td>NaN</td>\n",
       "    </tr>\n",
       "  </tbody>\n",
       "</table>\n",
       "</div>"
      ],
      "text/plain": [
       "           Text  Sentiment\n",
       "0  Tabish Rafiq        NaN\n",
       "3  Abir Qureshi        NaN\n",
       "5    Jamil Khan        NaN\n",
       "6  Javed Afridi        NaN\n",
       "7   Malik Bilal        NaN"
      ]
     },
     "execution_count": 4,
     "metadata": {},
     "output_type": "execute_result"
    }
   ],
   "source": [
    "# Change column \"Score\" values \n",
    "## 1-5(1/2 => negative, 3 => neutral, 4/5 => positive) to\n",
    "## 0-1(negative/positive)\n",
    "\n",
    "def partition(x):\n",
    "    \"\"\"\n",
    "    Score>3 a positive rating,\n",
    "    Score<3 a negative rating.\n",
    "    \"\"\"\n",
    "    if x == 'Positive':\n",
    "        return 0\n",
    "    elif x == 'Negative':\n",
    "        return 1\n",
    "    elif x == 'Neutral':\n",
    "        return 2\n",
    "    elif x == 'Mixed':\n",
    "        return 3\n",
    "\n",
    "# changing reviews with score less than 3 to be positive and vice-versa\n",
    "actualScore = df['Sentiment']\n",
    "positiveNegative = actualScore.map(partition) \n",
    "df['Sentiment'] = positiveNegative\n",
    "\n",
    "print(\"Number of data points in our data\", df.shape)\n",
    "df.head()"
   ]
  },
  {
   "cell_type": "code",
   "execution_count": 5,
   "id": "74d0cda1-87b1-4d1e-8538-437ca751344b",
   "metadata": {},
   "outputs": [
    {
     "data": {
      "text/html": [
       "<div>\n",
       "<style scoped>\n",
       "    .dataframe tbody tr th:only-of-type {\n",
       "        vertical-align: middle;\n",
       "    }\n",
       "\n",
       "    .dataframe tbody tr th {\n",
       "        vertical-align: top;\n",
       "    }\n",
       "\n",
       "    .dataframe thead th {\n",
       "        text-align: right;\n",
       "    }\n",
       "</style>\n",
       "<table border=\"1\" class=\"dataframe\">\n",
       "  <thead>\n",
       "    <tr style=\"text-align: right;\">\n",
       "      <th></th>\n",
       "      <th>Text</th>\n",
       "      <th>Sentiment</th>\n",
       "    </tr>\n",
       "  </thead>\n",
       "  <tbody>\n",
       "    <tr>\n",
       "      <th>27</th>\n",
       "      <td>Yours truly,</td>\n",
       "      <td>0</td>\n",
       "    </tr>\n",
       "    <tr>\n",
       "      <th>540</th>\n",
       "      <td>Thank you.</td>\n",
       "      <td>0</td>\n",
       "    </tr>\n",
       "    <tr>\n",
       "      <th>590</th>\n",
       "      <td>Allah apki madad karay .</td>\n",
       "      <td>0</td>\n",
       "    </tr>\n",
       "    <tr>\n",
       "      <th>709</th>\n",
       "      <td>I hope Allah do best for you</td>\n",
       "      <td>0</td>\n",
       "    </tr>\n",
       "    <tr>\n",
       "      <th>755</th>\n",
       "      <td>May u recover soon</td>\n",
       "      <td>0</td>\n",
       "    </tr>\n",
       "  </tbody>\n",
       "</table>\n",
       "</div>"
      ],
      "text/plain": [
       "                             Text  Sentiment\n",
       "27                   Yours truly,          0\n",
       "540                    Thank you.          0\n",
       "590      Allah apki madad karay .          0\n",
       "709  I hope Allah do best for you          0\n",
       "755            May u recover soon          0"
      ]
     },
     "execution_count": 5,
     "metadata": {},
     "output_type": "execute_result"
    }
   ],
   "source": [
    "df1 = df[df['Sentiment']==0]\n",
    "df2 = df[df['Sentiment']==1]\n",
    "df4 = df[df['Sentiment']==2]\n",
    "\n",
    "df = pd.concat([df1, df2,df4])# df3, df4])\n",
    "df['Sentiment'] = df['Sentiment'].astype('int')\n",
    "df = df.dropna()\n",
    "\n",
    "df.head()"
   ]
  },
  {
   "cell_type": "code",
   "execution_count": 6,
   "id": "2a905116-9052-4f90-b88c-c9cc87eb10f6",
   "metadata": {},
   "outputs": [
    {
     "name": "stderr",
     "output_type": "stream",
     "text": [
      "100%|██████████████████████████████████████████| 88/88 [00:00<00:00, 134.61it/s]\n"
     ]
    },
    {
     "data": {
      "text/html": [
       "<div>\n",
       "<style scoped>\n",
       "    .dataframe tbody tr th:only-of-type {\n",
       "        vertical-align: middle;\n",
       "    }\n",
       "\n",
       "    .dataframe tbody tr th {\n",
       "        vertical-align: top;\n",
       "    }\n",
       "\n",
       "    .dataframe thead th {\n",
       "        text-align: right;\n",
       "    }\n",
       "</style>\n",
       "<table border=\"1\" class=\"dataframe\">\n",
       "  <thead>\n",
       "    <tr style=\"text-align: right;\">\n",
       "      <th></th>\n",
       "      <th>Sentiment</th>\n",
       "      <th>processed_text</th>\n",
       "    </tr>\n",
       "  </thead>\n",
       "  <tbody>\n",
       "    <tr>\n",
       "      <th>27</th>\n",
       "      <td>0</td>\n",
       "      <td>yors troly</td>\n",
       "    </tr>\n",
       "    <tr>\n",
       "      <th>540</th>\n",
       "      <td>0</td>\n",
       "      <td>thank yo</td>\n",
       "    </tr>\n",
       "    <tr>\n",
       "      <th>590</th>\n",
       "      <td>0</td>\n",
       "      <td>alla apqi madad qray</td>\n",
       "    </tr>\n",
       "    <tr>\n",
       "      <th>709</th>\n",
       "      <td>0</td>\n",
       "      <td>i ope alla do best for yo</td>\n",
       "    </tr>\n",
       "    <tr>\n",
       "      <th>755</th>\n",
       "      <td>0</td>\n",
       "      <td>may o recover son</td>\n",
       "    </tr>\n",
       "  </tbody>\n",
       "</table>\n",
       "</div>"
      ],
      "text/plain": [
       "     Sentiment             processed_text\n",
       "27           0                 yors troly\n",
       "540          0                   thank yo\n",
       "590          0       alla apqi madad qray\n",
       "709          0  i ope alla do best for yo\n",
       "755          0          may o recover son"
      ]
     },
     "execution_count": 6,
     "metadata": {},
     "output_type": "execute_result"
    }
   ],
   "source": [
    "def decontracted(word):\n",
    "    # https://www.kaggle.com/smat26/sentiment-analysis-on-roman-urdu\n",
    "    import re\n",
    "    import bs4 as bs\n",
    "    # import re\n",
    "\n",
    "    word = re.sub(r'ain$', r'ein', word)\n",
    "    word = re.sub(r'ai', r'ae', word)\n",
    "    word = re.sub(r'ay$', r'e', word)\n",
    "    word = re.sub(r'ey$', r'e', word)\n",
    "    word = re.sub(r'ie$', r'y', word)\n",
    "    word = re.sub(r'^es', r'is', word)\n",
    "    word = re.sub(r'a+', r'a', word)\n",
    "    word = re.sub(r'j+', r'j', word)\n",
    "    word = re.sub(r'd+', r'd', word)\n",
    "    word = re.sub(r'u', r'o', word)\n",
    "    word = re.sub(r'o+', r'o', word)\n",
    "    word = re.sub(r'ee+', r'i', word)\n",
    "    if not re.match(r'ar', word):\n",
    "        word = re.sub(r'ar', r'r', word)\n",
    "        word = re.sub(r'iy+', r'i', word)\n",
    "        word = re.sub(r'ih+', r'eh', word)\n",
    "        word = re.sub(r's+', r's', word)\n",
    "    if re.search(r'[rst]y', 'word') and word[-1] != 'y':\n",
    "        word = re.sub(r'y', r'i', word)\n",
    "    if re.search(r'[bcdefghijklmnopqrtuvwxyz]i', word):\n",
    "        word = re.sub(r'i$', r'y', word)\n",
    "    if re.search(r'[acefghijlmnoqrstuvwxyz]h', word):\n",
    "        word = re.sub(r'h', '', word)\n",
    "        word = re.sub(r'k', r'q', word)\n",
    "        \n",
    "    word = re.sub(r'\\#\\.', '', word)\n",
    "    word = re.sub(r'\\n', '', word)\n",
    "    word = re.sub(r',', '', word)\n",
    "    word = re.sub(r'\\-', ' ', word)\n",
    "    word = re.sub(r'\\.', '', word)\n",
    "    word = re.sub(r'\\\\', ' ', word)\n",
    "    word = re.sub(r'\\\\x\\.+', '', word)\n",
    "    word = re.sub(r'\\d', '', word)\n",
    "    word = re.sub(r'^_.', '', word)\n",
    "    word = re.sub(r'_', ' ', word)\n",
    "    word = re.sub(r'^ ', '', word)\n",
    "    word = re.sub(r' $', '', word)\n",
    "    word = re.sub(r'\\?', '', word)\n",
    "    \n",
    "    # Remove HTML tags\n",
    "    word = re.sub(r\"http\\S+\", \"\", word)\n",
    "    word = bs.BeautifulSoup(word, 'lxml').get_text()\n",
    "\n",
    "    # Remove numeric values including alphanueric value\n",
    "    word = re.sub(\"\\S*\\d\\S*\", \"\", word).strip()\n",
    "\n",
    "    # Remove special chars\n",
    "    word = re.sub('[^A-Za-z]+', ' ', word)\n",
    "    return word.lower()\n",
    "    \n",
    "def lemmatizing(text):\n",
    "    from nltk.stem import WordNetLemmatizer\n",
    "    from nltk import word_tokenize\n",
    "\n",
    "    lemmatizer = WordNetLemmatizer()\n",
    "    tokens = word_tokenize(text)\n",
    "    for i in range(len(tokens)):\n",
    "        lemma_word = lemmatizer.lemmatize(tokens[i])\n",
    "        tokens[i] = lemma_word\n",
    "    return \" \".join(tokens)\n",
    "\n",
    "def text_preprocessing(df_text):\n",
    "    from tqdm import tqdm\n",
    "    \n",
    "    preprocessed_msg = []\n",
    "    # tqdm is for printing the status bar\n",
    "    for sentance in tqdm(df_text.values):\n",
    "        # Remove undesired chars\n",
    "        sentance = decontracted(sentance)\n",
    "        # sentance = lemmatizing(sentance)\n",
    "\n",
    "        # Stop words\n",
    "        ## https://deepnote.com/@umaimakhh/Sentimental-Analysis-on-Roman-Urdu-CYPLZfCxTjWGLxWzS2BaDg\n",
    "        ## some words like Mein - Ma - Maa\n",
    "        stopwords= ['uski', 'krna', 'kch', 'gai', 'raha', 'you', 'le', 'ki', 'krta', 'ga', 'jo', 'haan', 'de',\n",
    "                    'hun', 'ho', 'meri', 'is', 'jee', 'lg', 'dain', 'hoa', 'jati', 'jana', 'rahi', 'kar', 'tou',\n",
    "                    'photo', 'rha', 'ayi', 'wala', 'lye', 'kis', 'sy', 'ne', 'wohi', 'gy', 'gi', 'ny', 'hi', 'ab', 'gaya',\n",
    "                    'je', 'hotay', 'jata', 'pe', 'hota', 'aye', 'me', 'tha', 'rahay', 'rhy', 'gya', 'us', 'thay', 'bhi',\n",
    "                    'liye', 'sent', 'hai', 'aur', 'thi', 'jye', 'dono', 'phr', 'yehi', 'to', 'na', 'main', 'abi', 'hum',\n",
    "                    'koi', 'hova', 'hain', 'ja', 'un', 'par', 'kafi', 'kr', 'hy', 'karna', 'h', 'krny', 'wo', 'kay', 'acha',\n",
    "                    'mil', 'jb', 'ya', 'kya', 'ai', 'kuch', 'se', 'woh', 'thy', 'ap', 'houn', 'hay', 'sb', 'ka', 'he', 'han',\n",
    "                    'chal', 'in', 'waisay', 'aese', 'hui', 'or', 'tu', 'ko', 'yeh']# , 'nai'\n",
    "\n",
    "        \n",
    "        sentance = ' '.join(e.lower() for e in sentance.split() if e.lower() not in stopwords)\n",
    "\n",
    "        # Append processed sentense to list\n",
    "        preprocessed_msg.append(sentance.strip())\n",
    "        \n",
    "    return preprocessed_msg\n",
    "        \n",
    "df['processed_text'] = text_preprocessing(df['Text'].astype(\"str\"))\n",
    "df.drop('Text', axis=1, inplace=True)\n",
    "df.head()"
   ]
  },
  {
   "cell_type": "code",
   "execution_count": 14,
   "id": "3622c243-c9d0-4015-9fd6-ae0a9c58fe0e",
   "metadata": {},
   "outputs": [
    {
     "name": "stdout",
     "output_type": "stream",
     "text": [
      "(88, 2000)\n"
     ]
    },
    {
     "data": {
      "text/plain": [
       "0.0"
      ]
     },
     "execution_count": 14,
     "metadata": {},
     "output_type": "execute_result"
    }
   ],
   "source": [
    "vect = joblib.load('data/tfidf_model.model')\n",
    "data = vect.transform(df['processed_text'])\n",
    "data = data.toarray()\n",
    "print(data.shape)\n",
    "\n"
   ]
  },
  {
   "cell_type": "code",
   "execution_count": 8,
   "id": "653abf26-399c-4519-b033-429d542c667c",
   "metadata": {},
   "outputs": [
    {
     "name": "stdout",
     "output_type": "stream",
     "text": [
      "              precision    recall  f1-score   support\n",
      "\n",
      "           0       0.11      0.25      0.15         8\n",
      "           1       0.32      0.23      0.27        35\n",
      "           2       0.50      0.49      0.49        45\n",
      "\n",
      "    accuracy                           0.36        88\n",
      "   macro avg       0.31      0.32      0.30        88\n",
      "weighted avg       0.39      0.36      0.37        88\n",
      "\n"
     ]
    }
   ],
   "source": [
    "votting_model = joblib.load('data/votting_model.model')\n",
    "\n",
    "y_pred = votting_model.predict(data)\n",
    "print(classification_report(df['Sentiment'], y_pred))"
   ]
  },
  {
   "cell_type": "code",
   "execution_count": 11,
   "id": "7708ff1b-eb5e-4fc9-987e-ba28295ac3df",
   "metadata": {},
   "outputs": [
    {
     "name": "stdout",
     "output_type": "stream",
     "text": [
      "              precision    recall  f1-score   support\n",
      "\n",
      "           0       0.10      0.25      0.14         8\n",
      "           1       0.34      0.29      0.31        35\n",
      "           2       0.50      0.42      0.46        45\n",
      "\n",
      "    accuracy                           0.35        88\n",
      "   macro avg       0.31      0.32      0.30        88\n",
      "weighted avg       0.40      0.35      0.37        88\n",
      "\n"
     ]
    }
   ],
   "source": [
    "stacking_model = joblib.load('data/stacking_model.model')\n",
    "\n",
    "y_pred = stacking_model.predict(data)\n",
    "print(classification_report(df['Sentiment'], y_pred))"
   ]
  },
  {
   "cell_type": "code",
   "execution_count": 12,
   "id": "88eb1e55-6c34-4f7a-aabb-55a68ec9e447",
   "metadata": {},
   "outputs": [
    {
     "name": "stdout",
     "output_type": "stream",
     "text": [
      "              precision    recall  f1-score   support\n",
      "\n",
      "           0       0.08      0.25      0.12         8\n",
      "           1       0.55      0.31      0.40        35\n",
      "           2       0.64      0.62      0.63        45\n",
      "\n",
      "    accuracy                           0.47        88\n",
      "   macro avg       0.42      0.40      0.38        88\n",
      "weighted avg       0.55      0.47      0.49        88\n",
      "\n"
     ]
    }
   ],
   "source": [
    "svm_linear_model = joblib.load(\"data/svm_linear.model\")\n",
    "y_pred = svm_linear_model.predict(data)\n",
    "print(classification_report(df['Sentiment'], y_pred))"
   ]
  },
  {
   "cell_type": "code",
   "execution_count": 13,
   "id": "5243472a-ae24-48d0-b505-ebfd88b05e69",
   "metadata": {},
   "outputs": [
    {
     "name": "stdout",
     "output_type": "stream",
     "text": [
      "              precision    recall  f1-score   support\n",
      "\n",
      "           0       0.21      0.88      0.34         8\n",
      "           1       0.53      0.23      0.32        35\n",
      "           2       0.55      0.49      0.52        45\n",
      "\n",
      "    accuracy                           0.42        88\n",
      "   macro avg       0.43      0.53      0.39        88\n",
      "weighted avg       0.51      0.42      0.42        88\n",
      "\n"
     ]
    }
   ],
   "source": [
    "model = joblib.load(\"data/svm_nonLinear.model\")\n",
    "y_pred = model.predict(data)\n",
    "print(classification_report(df['Sentiment'], y_pred))"
   ]
  },
  {
   "cell_type": "code",
   "execution_count": 14,
   "id": "4b4da2da-cb85-4159-9638-13e423a68bd3",
   "metadata": {},
   "outputs": [
    {
     "name": "stdout",
     "output_type": "stream",
     "text": [
      "              precision    recall  f1-score   support\n",
      "\n",
      "           0       0.14      0.62      0.23         8\n",
      "           1       0.65      0.43      0.52        35\n",
      "           2       0.67      0.44      0.53        45\n",
      "\n",
      "    accuracy                           0.45        88\n",
      "   macro avg       0.49      0.50      0.43        88\n",
      "weighted avg       0.61      0.45      0.50        88\n",
      "\n"
     ]
    }
   ],
   "source": [
    "nb = joblib.load(\"data/nb.model\")\n",
    "y_pred = nb.predict(data)\n",
    "print(classification_report(df['Sentiment'], y_pred))"
   ]
  },
  {
   "cell_type": "code",
   "execution_count": 15,
   "id": "41cb6ca3-005d-4dbe-a341-6e0b781e4dd5",
   "metadata": {},
   "outputs": [
    {
     "name": "stdout",
     "output_type": "stream",
     "text": [
      "              precision    recall  f1-score   support\n",
      "\n",
      "           0       0.18      0.62      0.28         8\n",
      "           1       0.56      0.40      0.47        35\n",
      "           2       0.69      0.53      0.60        45\n",
      "\n",
      "    accuracy                           0.49        88\n",
      "   macro avg       0.47      0.52      0.45        88\n",
      "weighted avg       0.59      0.49      0.52        88\n",
      "\n"
     ]
    }
   ],
   "source": [
    "model = joblib.load(\"data/lr.model\")\n",
    "y_pred = model.predict(data)\n",
    "print(classification_report(df['Sentiment'], y_pred))"
   ]
  },
  {
   "cell_type": "code",
   "execution_count": 16,
   "id": "a6e737c7-217b-4f7d-843e-b49ab54e7ed8",
   "metadata": {},
   "outputs": [
    {
     "name": "stdout",
     "output_type": "stream",
     "text": [
      "              precision    recall  f1-score   support\n",
      "\n",
      "           0       0.38      0.75      0.50         8\n",
      "           1       0.68      0.37      0.48        35\n",
      "           2       0.68      0.80      0.73        45\n",
      "\n",
      "    accuracy                           0.62        88\n",
      "   macro avg       0.58      0.64      0.57        88\n",
      "weighted avg       0.65      0.62      0.61        88\n",
      "\n"
     ]
    }
   ],
   "source": [
    "model = joblib.load(\"data/dt.model\")\n",
    "y_pred = model.predict(data)\n",
    "print(classification_report(df['Sentiment'], y_pred))"
   ]
  },
  {
   "cell_type": "code",
   "execution_count": 17,
   "id": "d4845150-156e-41fd-bdc5-4c20d3ce9875",
   "metadata": {},
   "outputs": [
    {
     "name": "stdout",
     "output_type": "stream",
     "text": [
      "              precision    recall  f1-score   support\n",
      "\n",
      "           0       0.19      0.50      0.28         8\n",
      "           1       0.50      0.31      0.39        35\n",
      "           2       0.62      0.62      0.62        45\n",
      "\n",
      "    accuracy                           0.49        88\n",
      "   macro avg       0.44      0.48      0.43        88\n",
      "weighted avg       0.53      0.49      0.50        88\n",
      "\n"
     ]
    }
   ],
   "source": [
    "model = joblib.load(\"data/knn.model\")\n",
    "y_pred = model.predict(data)\n",
    "print(classification_report(df['Sentiment'], y_pred))"
   ]
  },
  {
   "cell_type": "code",
   "execution_count": 18,
   "id": "2f98eff2-d804-456d-81d4-ee6ec409ef47",
   "metadata": {},
   "outputs": [
    {
     "name": "stdout",
     "output_type": "stream",
     "text": [
      "              precision    recall  f1-score   support\n",
      "\n",
      "           0       0.22      0.62      0.32         8\n",
      "           1       0.50      0.17      0.26        35\n",
      "           2       0.57      0.67      0.61        45\n",
      "\n",
      "    accuracy                           0.47        88\n",
      "   macro avg       0.43      0.49      0.40        88\n",
      "weighted avg       0.51      0.47      0.44        88\n",
      "\n"
     ]
    }
   ],
   "source": [
    "model = joblib.load(\"data/rf.model\")\n",
    "y_pred = model.predict(data)\n",
    "print(classification_report(df['Sentiment'], y_pred))"
   ]
  },
  {
   "cell_type": "markdown",
   "id": "3bf7b53d-c03e-4c11-860f-6e1a869b78a7",
   "metadata": {},
   "source": [
    "## X_train"
   ]
  },
  {
   "cell_type": "code",
   "execution_count": 19,
   "id": "ff860c0a-28a7-4213-b873-3b2cfcb59b10",
   "metadata": {},
   "outputs": [
    {
     "name": "stdout",
     "output_type": "stream",
     "text": [
      "(88, 2000)\n"
     ]
    }
   ],
   "source": [
    "vect = joblib.load('tfidf_X_train.model')\n",
    "data = vect.transform(df['processed_text'])\n",
    "data = data.toarray()\n",
    "print(data.shape)"
   ]
  },
  {
   "cell_type": "code",
   "execution_count": 20,
   "id": "0b7e942d-acd2-427a-a10e-75735b675830",
   "metadata": {},
   "outputs": [
    {
     "name": "stdout",
     "output_type": "stream",
     "text": [
      "              precision    recall  f1-score   support\n",
      "\n",
      "           0       0.05      0.12      0.07         8\n",
      "           1       0.36      0.14      0.20        35\n",
      "           2       0.48      0.58      0.53        45\n",
      "\n",
      "    accuracy                           0.36        88\n",
      "   macro avg       0.30      0.28      0.27        88\n",
      "weighted avg       0.39      0.36      0.36        88\n",
      "\n"
     ]
    }
   ],
   "source": [
    "votting_model = joblib.load('data/votting_model.model')\n",
    "\n",
    "y_pred = votting_model.predict(data)\n",
    "print(classification_report(df['Sentiment'], y_pred))"
   ]
  },
  {
   "cell_type": "code",
   "execution_count": 21,
   "id": "aecffbb0-79f7-4aab-935a-fcaea9015ed3",
   "metadata": {},
   "outputs": [
    {
     "name": "stdout",
     "output_type": "stream",
     "text": [
      "              precision    recall  f1-score   support\n",
      "\n",
      "           0       0.09      0.25      0.13         8\n",
      "           1       0.46      0.17      0.25        35\n",
      "           2       0.48      0.56      0.52        45\n",
      "\n",
      "    accuracy                           0.38        88\n",
      "   macro avg       0.34      0.33      0.30        88\n",
      "weighted avg       0.44      0.38      0.37        88\n",
      "\n"
     ]
    }
   ],
   "source": [
    "stacking_model = joblib.load('data/stacking_model.model')\n",
    "\n",
    "y_pred = stacking_model.predict(data)\n",
    "print(classification_report(df['Sentiment'], y_pred))"
   ]
  },
  {
   "cell_type": "code",
   "execution_count": 22,
   "id": "613b6b47-a0cc-42b8-adc0-c5bfa529f54b",
   "metadata": {},
   "outputs": [
    {
     "name": "stdout",
     "output_type": "stream",
     "text": [
      "              precision    recall  f1-score   support\n",
      "\n",
      "           0       0.11      0.38      0.17         8\n",
      "           1       0.50      0.31      0.39        35\n",
      "           2       0.53      0.44      0.48        45\n",
      "\n",
      "    accuracy                           0.39        88\n",
      "   macro avg       0.38      0.38      0.34        88\n",
      "weighted avg       0.48      0.39      0.42        88\n",
      "\n"
     ]
    }
   ],
   "source": [
    "svm_linear_model = joblib.load(\"data/svm_linear.model\")\n",
    "y_pred = svm_linear_model.predict(data)\n",
    "print(classification_report(df['Sentiment'], y_pred))"
   ]
  },
  {
   "cell_type": "code",
   "execution_count": 23,
   "id": "a957bf4a-8c3c-478c-8cb4-2376ace08510",
   "metadata": {},
   "outputs": [
    {
     "name": "stdout",
     "output_type": "stream",
     "text": [
      "              precision    recall  f1-score   support\n",
      "\n",
      "           0       0.25      0.75      0.38         8\n",
      "           1       0.71      0.34      0.46        35\n",
      "           2       0.60      0.62      0.61        45\n",
      "\n",
      "    accuracy                           0.52        88\n",
      "   macro avg       0.52      0.57      0.48        88\n",
      "weighted avg       0.61      0.52      0.53        88\n",
      "\n"
     ]
    }
   ],
   "source": [
    "model = joblib.load(\"data/svm_nonLinear.model\")\n",
    "y_pred = model.predict(data)\n",
    "print(classification_report(df['Sentiment'], y_pred))"
   ]
  },
  {
   "cell_type": "code",
   "execution_count": 24,
   "id": "40fbaddc-dd0b-49c0-8f0b-807fd6f7ef54",
   "metadata": {},
   "outputs": [
    {
     "name": "stdout",
     "output_type": "stream",
     "text": [
      "              precision    recall  f1-score   support\n",
      "\n",
      "           0       0.25      0.50      0.33         8\n",
      "           1       0.57      0.46      0.51        35\n",
      "           2       0.55      0.53      0.54        45\n",
      "\n",
      "    accuracy                           0.50        88\n",
      "   macro avg       0.46      0.50      0.46        88\n",
      "weighted avg       0.53      0.50      0.51        88\n",
      "\n"
     ]
    }
   ],
   "source": [
    "nb = joblib.load(\"data/nb.model\")\n",
    "y_pred = nb.predict(data)\n",
    "print(classification_report(df['Sentiment'], y_pred))"
   ]
  },
  {
   "cell_type": "code",
   "execution_count": 25,
   "id": "865caf3f-abe4-4e3e-837e-3e0640a299e4",
   "metadata": {},
   "outputs": [
    {
     "name": "stdout",
     "output_type": "stream",
     "text": [
      "              precision    recall  f1-score   support\n",
      "\n",
      "           0       0.25      0.62      0.36         8\n",
      "           1       0.62      0.46      0.52        35\n",
      "           2       0.60      0.56      0.57        45\n",
      "\n",
      "    accuracy                           0.52        88\n",
      "   macro avg       0.49      0.55      0.49        88\n",
      "weighted avg       0.57      0.52      0.53        88\n",
      "\n"
     ]
    }
   ],
   "source": [
    "model = joblib.load(\"data/lr.model\")\n",
    "y_pred = model.predict(data)\n",
    "print(classification_report(df['Sentiment'], y_pred))"
   ]
  },
  {
   "cell_type": "code",
   "execution_count": 26,
   "id": "7a9c59d8-aa9d-48b1-9d93-ae6c825ce6b3",
   "metadata": {},
   "outputs": [
    {
     "name": "stdout",
     "output_type": "stream",
     "text": [
      "              precision    recall  f1-score   support\n",
      "\n",
      "           0       0.33      0.75      0.46         8\n",
      "           1       0.58      0.40      0.47        35\n",
      "           2       0.63      0.64      0.64        45\n",
      "\n",
      "    accuracy                           0.56        88\n",
      "   macro avg       0.52      0.60      0.52        88\n",
      "weighted avg       0.58      0.56      0.56        88\n",
      "\n"
     ]
    }
   ],
   "source": [
    "model = joblib.load(\"data/dt.model\")\n",
    "y_pred = model.predict(data)\n",
    "print(classification_report(df['Sentiment'], y_pred))"
   ]
  },
  {
   "cell_type": "code",
   "execution_count": 27,
   "id": "07bd9b6b-51ac-49ee-9f19-2a51e8978498",
   "metadata": {},
   "outputs": [
    {
     "name": "stdout",
     "output_type": "stream",
     "text": [
      "              precision    recall  f1-score   support\n",
      "\n",
      "           0       0.25      0.75      0.38         8\n",
      "           1       0.50      0.31      0.39        35\n",
      "           2       0.57      0.53      0.55        45\n",
      "\n",
      "    accuracy                           0.47        88\n",
      "   macro avg       0.44      0.53      0.44        88\n",
      "weighted avg       0.51      0.47      0.47        88\n",
      "\n"
     ]
    }
   ],
   "source": [
    "model = joblib.load(\"data/knn.model\")\n",
    "y_pred = model.predict(data)\n",
    "print(classification_report(df['Sentiment'], y_pred))"
   ]
  },
  {
   "cell_type": "code",
   "execution_count": 28,
   "id": "d9857ffd-0678-4582-9bb8-e578f29a54b8",
   "metadata": {},
   "outputs": [
    {
     "name": "stdout",
     "output_type": "stream",
     "text": [
      "              precision    recall  f1-score   support\n",
      "\n",
      "           0       0.28      0.62      0.38         8\n",
      "           1       0.79      0.43      0.56        35\n",
      "           2       0.63      0.71      0.67        45\n",
      "\n",
      "    accuracy                           0.59        88\n",
      "   macro avg       0.56      0.59      0.54        88\n",
      "weighted avg       0.66      0.59      0.60        88\n",
      "\n"
     ]
    }
   ],
   "source": [
    "model = joblib.load(\"data/rf.model\")\n",
    "y_pred = model.predict(data)\n",
    "print(classification_report(df['Sentiment'], y_pred))"
   ]
  },
  {
   "cell_type": "code",
   "execution_count": 8,
   "id": "e28a09b1-8179-4175-9eb2-19fb2a1395d5",
   "metadata": {},
   "outputs": [],
   "source": [
    "## Testing  Boosting\n",
    "\n",
    "# votting_model = joblib.load('data/votting_model.model')\n",
    "# stacking_model = joblib.load('data/stacking_model.model')\n",
    "# svm_linear_model = joblib.load(\"data/svm_linear.model\")\n",
    "# svn_nonlinear_model = joblib.load(\"data/svm_nonLinear.model\")\n",
    "# nb_model = joblib.load(\"data/nb.model\")\n",
    "lr_model = joblib.load(\"data/lr.model\")\n",
    "dt_model = joblib.load(\"data/dt.model\")\n",
    "# knn_model = joblib.load(\"data/knn.model\")\n",
    "rf_model = joblib.load(\"data/rf.model\")"
   ]
  },
  {
   "cell_type": "code",
   "execution_count": 10,
   "id": "8b030e9e-73cb-4042-934e-682e0e1c7074",
   "metadata": {},
   "outputs": [],
   "source": [
    "models = [\n",
    "    # votting_model,\n",
    "    #       stacking_model,\n",
    "    #       svm_linear_model,\n",
    "    #       svn_nonlinear_model, \n",
    "    #       nb_model, \n",
    "          lr_model, \n",
    "          dt_model,\n",
    "          # knn_model, \n",
    "          rf_model]"
   ]
  },
  {
   "cell_type": "code",
   "execution_count": 16,
   "id": "2dfd75ba-b7d0-45ce-95eb-6dc4324697ff",
   "metadata": {},
   "outputs": [
    {
     "ename": "TypeError",
     "evalue": "unhashable type: 'numpy.ndarray'",
     "output_type": "error",
     "traceback": [
      "\u001b[0;31m---------------------------------------------------------------------------\u001b[0m",
      "\u001b[0;31mTypeError\u001b[0m                                 Traceback (most recent call last)",
      "\u001b[0;32m/tmp/ipykernel_3052/3672496803.py\u001b[0m in \u001b[0;36m<module>\u001b[0;34m\u001b[0m\n\u001b[1;32m      3\u001b[0m \u001b[0;32mfor\u001b[0m \u001b[0mmodel\u001b[0m \u001b[0;32min\u001b[0m \u001b[0mmodels\u001b[0m\u001b[0;34m:\u001b[0m\u001b[0;34m\u001b[0m\u001b[0;34m\u001b[0m\u001b[0m\n\u001b[1;32m      4\u001b[0m     \u001b[0mpred_list\u001b[0m\u001b[0;34m.\u001b[0m\u001b[0mappend\u001b[0m\u001b[0;34m(\u001b[0m\u001b[0mmodel\u001b[0m\u001b[0;34m.\u001b[0m\u001b[0mpredict\u001b[0m\u001b[0;34m(\u001b[0m\u001b[0mdata\u001b[0m\u001b[0;34m)\u001b[0m\u001b[0;34m)\u001b[0m\u001b[0;34m\u001b[0m\u001b[0;34m\u001b[0m\u001b[0m\n\u001b[0;32m----> 5\u001b[0;31m \u001b[0mmax\u001b[0m\u001b[0;34m(\u001b[0m\u001b[0mset\u001b[0m\u001b[0;34m(\u001b[0m\u001b[0mpred_list\u001b[0m\u001b[0;34m)\u001b[0m\u001b[0;34m,\u001b[0m \u001b[0mkey\u001b[0m\u001b[0;34m=\u001b[0m\u001b[0mpred_list\u001b[0m\u001b[0;34m.\u001b[0m\u001b[0mcount\u001b[0m\u001b[0;34m)\u001b[0m\u001b[0;34m\u001b[0m\u001b[0;34m\u001b[0m\u001b[0m\n\u001b[0m",
      "\u001b[0;31mTypeError\u001b[0m: unhashable type: 'numpy.ndarray'"
     ]
    }
   ],
   "source": [
    "# for d in data[0][0]:\n",
    "pred_list = []\n",
    "for model in models:\n",
    "    pred_list.append(model.predict(data))\n",
    "max(set(pred_list), key=pred_list.count)"
   ]
  }
 ],
 "metadata": {
  "kernelspec": {
   "display_name": "Python 3 (ipykernel)",
   "language": "python",
   "name": "python3"
  },
  "language_info": {
   "codemirror_mode": {
    "name": "ipython",
    "version": 3
   },
   "file_extension": ".py",
   "mimetype": "text/x-python",
   "name": "python",
   "nbconvert_exporter": "python",
   "pygments_lexer": "ipython3",
   "version": "3.9.7"
  }
 },
 "nbformat": 4,
 "nbformat_minor": 5
}
