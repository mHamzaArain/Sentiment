{
 "cells": [
  {
   "cell_type": "code",
   "execution_count": 1,
   "id": "249d6699-88cc-44a4-9db8-acbc3c7fea95",
   "metadata": {},
   "outputs": [],
   "source": [
    "import pandas as pd\n",
    "import numpy as np\n",
    "import joblib\n",
    "from sklearn.metrics import  classification_report\n",
    "import os"
   ]
  },
  {
   "cell_type": "code",
   "execution_count": 2,
   "id": "0558b548-a083-4c3e-8aa4-408099567ce8",
   "metadata": {},
   "outputs": [
    {
     "name": "stdout",
     "output_type": "stream",
     "text": [
      "965\n"
     ]
    }
   ],
   "source": [
    "file = \"/media/hamza/289875229874EFA4/WORK/annotation/done/txt/04_Mon-31-01-22-Fri-07-02-22/gen_ner_24k_farrukh.txt\" \n",
    "df = pd.read_csv(file, header=None, delimiter = \"\\t\")\n",
    "print(df.size)\n",
    "df.head()\n",
    "df.to_csv('file.csv', index=False)"
   ]
  },
  {
   "cell_type": "code",
   "execution_count": 3,
   "id": "d362b655-092b-44c2-af48-f8cd7dfc0518",
   "metadata": {},
   "outputs": [
    {
     "data": {
      "text/html": [
       "<div>\n",
       "<style scoped>\n",
       "    .dataframe tbody tr th:only-of-type {\n",
       "        vertical-align: middle;\n",
       "    }\n",
       "\n",
       "    .dataframe tbody tr th {\n",
       "        vertical-align: top;\n",
       "    }\n",
       "\n",
       "    .dataframe thead th {\n",
       "        text-align: right;\n",
       "    }\n",
       "</style>\n",
       "<table border=\"1\" class=\"dataframe\">\n",
       "  <thead>\n",
       "    <tr style=\"text-align: right;\">\n",
       "      <th></th>\n",
       "      <th>0</th>\n",
       "    </tr>\n",
       "  </thead>\n",
       "  <tbody>\n",
       "    <tr>\n",
       "      <th>0</th>\n",
       "      <td>Ali Ahmed Khan</td>\n",
       "    </tr>\n",
       "    <tr>\n",
       "      <th>1</th>\n",
       "      <td>AoA, guys should I upgrade to windows 11 is it...</td>\n",
       "    </tr>\n",
       "    <tr>\n",
       "      <th>2</th>\n",
       "      <td>Right now it is not at the stage where you sho...</td>\n",
       "    </tr>\n",
       "    <tr>\n",
       "      <th>3</th>\n",
       "      <td>Muhammad Maaz Hussain i dont know why others a...</td>\n",
       "    </tr>\n",
       "    <tr>\n",
       "      <th>4</th>\n",
       "      <td>I upgraded to 11 the day of launch. No bugs an...</td>\n",
       "    </tr>\n",
       "  </tbody>\n",
       "</table>\n",
       "</div>"
      ],
      "text/plain": [
       "                                                   0\n",
       "0                                     Ali Ahmed Khan\n",
       "1  AoA, guys should I upgrade to windows 11 is it...\n",
       "2  Right now it is not at the stage where you sho...\n",
       "3  Muhammad Maaz Hussain i dont know why others a...\n",
       "4  I upgraded to 11 the day of launch. No bugs an..."
      ]
     },
     "execution_count": 3,
     "metadata": {},
     "output_type": "execute_result"
    }
   ],
   "source": [
    "df = pd.read_csv('file.csv')\n",
    "df.head()"
   ]
  },
  {
   "cell_type": "code",
   "execution_count": 4,
   "id": "575ddc3d-8dd2-458a-9d56-7636c6cb7ed7",
   "metadata": {},
   "outputs": [],
   "source": [
    "# mask = (df[0].str.len() > 6) & (df[0].str.len() <= 40)\n",
    "# df = df.loc[mask]\n",
    "# df.size"
   ]
  },
  {
   "cell_type": "code",
   "execution_count": 5,
   "id": "e8f471a8-b259-40ce-a604-696386e6bb33",
   "metadata": {},
   "outputs": [],
   "source": [
    "vect = joblib.load('data/tfidf_model.model')\n",
    "# knn_model = joblib.load('data/knn_model.model')"
   ]
  },
  {
   "cell_type": "code",
   "execution_count": 6,
   "id": "31ca05ed-81b4-4371-a35e-0685f2748306",
   "metadata": {},
   "outputs": [
    {
     "name": "stderr",
     "output_type": "stream",
     "text": [
      "100%|███████████████████████████████████████| 965/965 [00:00<00:00, 1787.84it/s]\n"
     ]
    },
    {
     "data": {
      "text/html": [
       "<div>\n",
       "<style scoped>\n",
       "    .dataframe tbody tr th:only-of-type {\n",
       "        vertical-align: middle;\n",
       "    }\n",
       "\n",
       "    .dataframe tbody tr th {\n",
       "        vertical-align: top;\n",
       "    }\n",
       "\n",
       "    .dataframe thead th {\n",
       "        text-align: right;\n",
       "    }\n",
       "</style>\n",
       "<table border=\"1\" class=\"dataframe\">\n",
       "  <thead>\n",
       "    <tr style=\"text-align: right;\">\n",
       "      <th></th>\n",
       "      <th>0</th>\n",
       "      <th>processed_text</th>\n",
       "    </tr>\n",
       "  </thead>\n",
       "  <tbody>\n",
       "    <tr>\n",
       "      <th>0</th>\n",
       "      <td>Ali Ahmed Khan</td>\n",
       "      <td>ali ahmed khan</td>\n",
       "    </tr>\n",
       "    <tr>\n",
       "      <th>1</th>\n",
       "      <td>AoA, guys should I upgrade to windows 11 is it...</td>\n",
       "      <td>aoa goys sold i opgrade windows it wort it men...</td>\n",
       "    </tr>\n",
       "    <tr>\n",
       "      <th>2</th>\n",
       "      <td>Right now it is not at the stage where you sho...</td>\n",
       "      <td>rigt now it not at te stage were yo sold switc...</td>\n",
       "    </tr>\n",
       "    <tr>\n",
       "      <th>3</th>\n",
       "      <td>Muhammad Maaz Hussain i dont know why others a...</td>\n",
       "      <td>moammad maz hosaen i dont qnow wy oters re fac...</td>\n",
       "    </tr>\n",
       "    <tr>\n",
       "      <th>4</th>\n",
       "      <td>I upgraded to 11 the day of launch. No bugs an...</td>\n",
       "      <td>i opgraded te day of laonc no bogs and no lags...</td>\n",
       "    </tr>\n",
       "  </tbody>\n",
       "</table>\n",
       "</div>"
      ],
      "text/plain": [
       "                                                   0  \\\n",
       "0                                     Ali Ahmed Khan   \n",
       "1  AoA, guys should I upgrade to windows 11 is it...   \n",
       "2  Right now it is not at the stage where you sho...   \n",
       "3  Muhammad Maaz Hussain i dont know why others a...   \n",
       "4  I upgraded to 11 the day of launch. No bugs an...   \n",
       "\n",
       "                                      processed_text  \n",
       "0                                     ali ahmed khan  \n",
       "1  aoa goys sold i opgrade windows it wort it men...  \n",
       "2  rigt now it not at te stage were yo sold switc...  \n",
       "3  moammad maz hosaen i dont qnow wy oters re fac...  \n",
       "4  i opgraded te day of laonc no bogs and no lags...  "
      ]
     },
     "execution_count": 6,
     "metadata": {},
     "output_type": "execute_result"
    }
   ],
   "source": [
    "def decontracted(word):\n",
    "    # https://www.kaggle.com/smat26/sentiment-analysis-on-roman-urdu\n",
    "    import re\n",
    "    import bs4 as bs\n",
    "    # import re\n",
    "\n",
    "    word = re.sub(r'ain$', r'ein', word)\n",
    "    word = re.sub(r'ai', r'ae', word)\n",
    "    word = re.sub(r'ay$', r'e', word)\n",
    "    word = re.sub(r'ey$', r'e', word)\n",
    "    word = re.sub(r'ie$', r'y', word)\n",
    "    word = re.sub(r'^es', r'is', word)\n",
    "    word = re.sub(r'a+', r'a', word)\n",
    "    word = re.sub(r'j+', r'j', word)\n",
    "    word = re.sub(r'd+', r'd', word)\n",
    "    word = re.sub(r'u', r'o', word)\n",
    "    word = re.sub(r'o+', r'o', word)\n",
    "    word = re.sub(r'ee+', r'i', word)\n",
    "    if not re.match(r'ar', word):\n",
    "        word = re.sub(r'ar', r'r', word)\n",
    "        word = re.sub(r'iy+', r'i', word)\n",
    "        word = re.sub(r'ih+', r'eh', word)\n",
    "        word = re.sub(r's+', r's', word)\n",
    "    if re.search(r'[rst]y', 'word') and word[-1] != 'y':\n",
    "        word = re.sub(r'y', r'i', word)\n",
    "    if re.search(r'[bcdefghijklmnopqrtuvwxyz]i', word):\n",
    "        word = re.sub(r'i$', r'y', word)\n",
    "    if re.search(r'[acefghijlmnoqrstuvwxyz]h', word):\n",
    "        word = re.sub(r'h', '', word)\n",
    "        word = re.sub(r'k', r'q', word)\n",
    "        \n",
    "    word = re.sub(r'\\#\\.', '', word)\n",
    "    word = re.sub(r'\\n', '', word)\n",
    "    word = re.sub(r',', '', word)\n",
    "    word = re.sub(r'\\-', ' ', word)\n",
    "    word = re.sub(r'\\.', '', word)\n",
    "    word = re.sub(r'\\\\', ' ', word)\n",
    "    word = re.sub(r'\\\\x\\.+', '', word)\n",
    "    word = re.sub(r'\\d', '', word)\n",
    "    word = re.sub(r'^_.', '', word)\n",
    "    word = re.sub(r'_', ' ', word)\n",
    "    word = re.sub(r'^ ', '', word)\n",
    "    word = re.sub(r' $', '', word)\n",
    "    word = re.sub(r'\\?', '', word)\n",
    "    \n",
    "    # Remove HTML tags\n",
    "    word = re.sub(r\"http\\S+\", \"\", word)\n",
    "    word = bs.BeautifulSoup(word, 'lxml').get_text()\n",
    "\n",
    "    # Remove numeric values including alphanueric value\n",
    "    word = re.sub(\"\\S*\\d\\S*\", \"\", word).strip()\n",
    "\n",
    "    # Remove special chars\n",
    "    word = re.sub('[^A-Za-z]+', ' ', word)\n",
    "    return word.lower()\n",
    "    \n",
    "def lemmatizing(text):\n",
    "    from nltk.stem import WordNetLemmatizer\n",
    "    from nltk import word_tokenize\n",
    "\n",
    "    lemmatizer = WordNetLemmatizer()\n",
    "    tokens = word_tokenize(text)\n",
    "    for i in range(len(tokens)):\n",
    "        lemma_word = lemmatizer.lemmatize(tokens[i])\n",
    "        tokens[i] = lemma_word\n",
    "    return \" \".join(tokens)\n",
    "\n",
    "def text_preprocessing(df_text):\n",
    "    from tqdm import tqdm\n",
    "    \n",
    "    preprocessed_msg = []\n",
    "    # tqdm is for printing the status bar\n",
    "    for sentance in tqdm(df_text.values):\n",
    "        # Remove undesired chars\n",
    "        sentance = decontracted(sentance)\n",
    "        # sentance = lemmatizing(sentance)\n",
    "\n",
    "        # Stop words\n",
    "        ## https://deepnote.com/@umaimakhh/Sentimental-Analysis-on-Roman-Urdu-CYPLZfCxTjWGLxWzS2BaDg\n",
    "        ## some words like Mein - Ma - Maa\n",
    "        stopwords= ['uski', 'krna', 'kch', 'gai', 'raha', 'you', 'le', 'ki', 'krta', 'ga', 'jo', 'haan', 'de',\n",
    "                    'hun', 'ho', 'meri', 'is', 'jee', 'lg', 'dain', 'hoa', 'jati', 'jana', 'rahi', 'kar', 'tou',\n",
    "                    'photo', 'rha', 'ayi', 'wala', 'lye', 'kis', 'sy', 'ne', 'wohi', 'gy', 'gi', 'ny', 'hi', 'ab', 'gaya',\n",
    "                    'je', 'hotay', 'jata', 'pe', 'hota', 'aye', 'me', 'tha', 'rahay', 'rhy', 'gya', 'us', 'thay', 'bhi',\n",
    "                    'liye', 'sent', 'hai', 'aur', 'thi', 'jye', 'dono', 'phr', 'yehi', 'to', 'na', 'main', 'abi', 'hum',\n",
    "                    'koi', 'hova', 'hain', 'ja', 'un', 'par', 'kafi', 'kr', 'hy', 'karna', 'h', 'krny', 'wo', 'kay', 'acha',\n",
    "                    'mil', 'jb', 'ya', 'kya', 'ai', 'kuch', 'se', 'woh', 'thy', 'ap', 'houn', 'hay', 'sb', 'ka', 'he', 'han',\n",
    "                    'chal', 'in', 'waisay', 'aese', 'hui', 'or', 'tu', 'ko', 'yeh']# , 'nai'\n",
    "\n",
    "        \n",
    "        sentance = ' '.join(e.lower() for e in sentance.split() if e.lower() not in stopwords)\n",
    "\n",
    "        # Append processed sentense to list\n",
    "        preprocessed_msg.append(sentance.strip())\n",
    "        \n",
    "    return preprocessed_msg\n",
    "        \n",
    "df['processed_text'] = text_preprocessing(df['0'].astype(\"str\"))\n",
    "# df.drop('0', axis=1, inplace=True)\n",
    "df.head()"
   ]
  },
  {
   "cell_type": "code",
   "execution_count": 7,
   "id": "7db9b161-7d27-40ed-b4ca-91328e24fb4f",
   "metadata": {},
   "outputs": [
    {
     "name": "stdout",
     "output_type": "stream",
     "text": [
      "(965, 2000)\n"
     ]
    }
   ],
   "source": [
    "data = vect.transform(df['processed_text'])\n",
    "data = data.toarray()\n",
    "print(data.shape)"
   ]
  },
  {
   "cell_type": "code",
   "execution_count": 8,
   "id": "eb940c9e-788e-4b12-8cfd-1e8b9f49b2cc",
   "metadata": {},
   "outputs": [],
   "source": [
    "## Testing  Boosting\n",
    "\n",
    "# votting_model = joblib.load('data/votting_model.model')\n",
    "# stacking_model = joblib.load('data/stacking_model.model')\n",
    "# svm_linear_model = joblib.load(\"data/svm_linear.model\")\n",
    "# svn_nonlinear_model = joblib.load(\"data/svm_nonLinear.model\")\n",
    "# nb_model = joblib.load(\"data/nb.model\")\n",
    "lr_model = joblib.load(\"data/lr.model\")\n",
    "dt_model = joblib.load(\"data/dt.model\")\n",
    "# knn_model = joblib.load(\"data/knn.model\")\n",
    "rf_model = joblib.load(\"data/rf.model\")"
   ]
  },
  {
   "cell_type": "code",
   "execution_count": 9,
   "id": "af73dc65-e91b-42a6-bc86-256708c73b93",
   "metadata": {},
   "outputs": [],
   "source": [
    "models = [\n",
    "    # votting_model,\n",
    "    #       stacking_model,\n",
    "    #       svm_linear_model,\n",
    "    #       svn_nonlinear_model, \n",
    "    #       nb_model, \n",
    "          lr_model, \n",
    "          dt_model,\n",
    "          # knn_model, \n",
    "          rf_model]"
   ]
  },
  {
   "cell_type": "code",
   "execution_count": 10,
   "id": "f962bac7-a0fd-4ffd-86eb-61712d6f46b8",
   "metadata": {},
   "outputs": [],
   "source": [
    "predictions = []\n",
    "for d in data:\n",
    "    pred_list = []\n",
    "    for model in models:\n",
    "        for predicted in model.predict(d.reshape(1, -1)):\n",
    "            pred_list.append(predicted)        \n",
    "    predictions.append(max(set(pred_list), key=pred_list.count))"
   ]
  },
  {
   "cell_type": "code",
   "execution_count": 11,
   "id": "0e8ea7a3-f9ba-45c6-ba0e-1fb71c8ddee8",
   "metadata": {},
   "outputs": [],
   "source": [
    "df['predictions'] = predictions"
   ]
  },
  {
   "cell_type": "code",
   "execution_count": 12,
   "id": "e3cfee50-3c4f-459c-a8ab-b0957235491d",
   "metadata": {},
   "outputs": [
    {
     "data": {
      "text/html": [
       "<div>\n",
       "<style scoped>\n",
       "    .dataframe tbody tr th:only-of-type {\n",
       "        vertical-align: middle;\n",
       "    }\n",
       "\n",
       "    .dataframe tbody tr th {\n",
       "        vertical-align: top;\n",
       "    }\n",
       "\n",
       "    .dataframe thead th {\n",
       "        text-align: right;\n",
       "    }\n",
       "</style>\n",
       "<table border=\"1\" class=\"dataframe\">\n",
       "  <thead>\n",
       "    <tr style=\"text-align: right;\">\n",
       "      <th></th>\n",
       "      <th>0</th>\n",
       "      <th>predictions</th>\n",
       "    </tr>\n",
       "  </thead>\n",
       "  <tbody>\n",
       "    <tr>\n",
       "      <th>0</th>\n",
       "      <td>Ali Ahmed Khan</td>\n",
       "      <td>2</td>\n",
       "    </tr>\n",
       "    <tr>\n",
       "      <th>1</th>\n",
       "      <td>AoA, guys should I upgrade to windows 11 is it...</td>\n",
       "      <td>0</td>\n",
       "    </tr>\n",
       "    <tr>\n",
       "      <th>2</th>\n",
       "      <td>Right now it is not at the stage where you sho...</td>\n",
       "      <td>0</td>\n",
       "    </tr>\n",
       "    <tr>\n",
       "      <th>3</th>\n",
       "      <td>Muhammad Maaz Hussain i dont know why others a...</td>\n",
       "      <td>0</td>\n",
       "    </tr>\n",
       "    <tr>\n",
       "      <th>4</th>\n",
       "      <td>I upgraded to 11 the day of launch. No bugs an...</td>\n",
       "      <td>1</td>\n",
       "    </tr>\n",
       "  </tbody>\n",
       "</table>\n",
       "</div>"
      ],
      "text/plain": [
       "                                                   0  predictions\n",
       "0                                     Ali Ahmed Khan            2\n",
       "1  AoA, guys should I upgrade to windows 11 is it...            0\n",
       "2  Right now it is not at the stage where you sho...            0\n",
       "3  Muhammad Maaz Hussain i dont know why others a...            0\n",
       "4  I upgraded to 11 the day of launch. No bugs an...            1"
      ]
     },
     "execution_count": 12,
     "metadata": {},
     "output_type": "execute_result"
    }
   ],
   "source": [
    "df.drop('processed_text', axis=1, inplace=True)\n",
    "df.head()"
   ]
  },
  {
   "cell_type": "code",
   "execution_count": 13,
   "id": "0e9b9327-73cc-42e4-8918-b16eb3d1ea32",
   "metadata": {},
   "outputs": [],
   "source": [
    "df.to_csv('f.csv', index=False)"
   ]
  },
  {
   "cell_type": "code",
   "execution_count": null,
   "id": "49543202-92c2-4656-b484-b2841088ed58",
   "metadata": {},
   "outputs": [],
   "source": []
  },
  {
   "cell_type": "code",
   "execution_count": null,
   "id": "232c0be7-aa32-4e8a-83e3-00170b50cf3b",
   "metadata": {},
   "outputs": [],
   "source": []
  }
 ],
 "metadata": {
  "kernelspec": {
   "display_name": "Python 3 (ipykernel)",
   "language": "python",
   "name": "python3"
  },
  "language_info": {
   "codemirror_mode": {
    "name": "ipython",
    "version": 3
   },
   "file_extension": ".py",
   "mimetype": "text/x-python",
   "name": "python",
   "nbconvert_exporter": "python",
   "pygments_lexer": "ipython3",
   "version": "3.9.7"
  }
 },
 "nbformat": 4,
 "nbformat_minor": 5
}
