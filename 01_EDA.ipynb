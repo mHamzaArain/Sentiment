{
 "cells": [
  {
   "cell_type": "code",
   "execution_count": 1,
   "id": "6c3adaea-c188-468c-96a2-ec519f5ba36f",
   "metadata": {},
   "outputs": [],
   "source": [
    "import numpy as np\n",
    "import pandas as pd\n",
    "import os\n",
    "import matplotlib.pyplot as plt\n",
    "import joblib\n",
    "from tqdm.auto import tqdm\n",
    "\n",
    "import warnings\n",
    "warnings.filterwarnings(\"ignore\", category=UserWarning) "
   ]
  },
  {
   "cell_type": "code",
   "execution_count": 7,
   "id": "59df6feb-8e7f-496f-b72f-d1929e68aac5",
   "metadata": {},
   "outputs": [
    {
     "name": "stdout",
     "output_type": "stream",
     "text": [
      "66276\n"
     ]
    },
    {
     "data": {
      "text/html": [
       "<div>\n",
       "<style scoped>\n",
       "    .dataframe tbody tr th:only-of-type {\n",
       "        vertical-align: middle;\n",
       "    }\n",
       "\n",
       "    .dataframe tbody tr th {\n",
       "        vertical-align: top;\n",
       "    }\n",
       "\n",
       "    .dataframe thead th {\n",
       "        text-align: right;\n",
       "    }\n",
       "</style>\n",
       "<table border=\"1\" class=\"dataframe\">\n",
       "  <thead>\n",
       "    <tr style=\"text-align: right;\">\n",
       "      <th></th>\n",
       "      <th>Text</th>\n",
       "      <th>Sentiment</th>\n",
       "    </tr>\n",
       "  </thead>\n",
       "  <tbody>\n",
       "    <tr>\n",
       "      <th>0</th>\n",
       "      <td>Maine samjha koi azda ya anaconda hoga. Yeh tu...</td>\n",
       "      <td>Neutral</td>\n",
       "    </tr>\n",
       "    <tr>\n",
       "      <th>1</th>\n",
       "      <td>Ptyas Mucosa, commonly known as the Oriental R...</td>\n",
       "      <td>NaN</td>\n",
       "    </tr>\n",
       "    <tr>\n",
       "      <th>2</th>\n",
       "      <td>Shahab Uddin Yeah</td>\n",
       "      <td>NaN</td>\n",
       "    </tr>\n",
       "    <tr>\n",
       "      <th>3</th>\n",
       "      <td>Original dub then drop link</td>\n",
       "      <td>Neutral</td>\n",
       "    </tr>\n",
       "    <tr>\n",
       "      <th>4</th>\n",
       "      <td>From where can i watch it?</td>\n",
       "      <td>Neutral</td>\n",
       "    </tr>\n",
       "  </tbody>\n",
       "</table>\n",
       "</div>"
      ],
      "text/plain": [
       "                                                Text Sentiment\n",
       "0  Maine samjha koi azda ya anaconda hoga. Yeh tu...   Neutral\n",
       "1  Ptyas Mucosa, commonly known as the Oriental R...       NaN\n",
       "2                                  Shahab Uddin Yeah       NaN\n",
       "3                        Original dub then drop link   Neutral\n",
       "4                         From where can i watch it?   Neutral"
      ]
     },
     "execution_count": 7,
     "metadata": {},
     "output_type": "execute_result"
    }
   ],
   "source": [
    "def csv_files(all_csv_files): \n",
    "    \"\"\"Locate csv\"\"\"\n",
    "    for path, folder, file_list in os.walk(os.getcwd()):\n",
    "            if len(file_list) > 0:\n",
    "                for file in file_list:\n",
    "                    if file[-4:]  == \".csv\":\n",
    "                        all_csv_files.append(os.path.join(path, file))\n",
    "\n",
    "main_dir = os.getcwd()\n",
    "\n",
    "# Locate csvs\n",
    "all_csv_files = []            \n",
    "\n",
    "# Hamza\n",
    "os.chdir('/media/hamza/289875229874EFA4/WORK/annotation/done/sentiments')\n",
    "csv_files(all_csv_files )\n",
    "\n",
    "# uamir\n",
    "os.chdir('/home/hamza/Documents/umair')\n",
    "csv_files(all_csv_files )\n",
    "\n",
    "# Farrukh\n",
    "os.chdir('/home/hamza/Documents/farrukh')\n",
    "csv_files(all_csv_files )\n",
    "\n",
    "all_csv_files = list(set(all_csv_files))\n",
    "\n",
    "\n",
    "# Merging all csvs\n",
    "frames = [] \n",
    "for csv_file in all_csv_files:\n",
    "    frames.append(pd.read_csv(csv_file))\n",
    "\n",
    "df = pd.concat(frames)\n",
    "\n",
    "print(df.size)\n",
    "df.head()"
   ]
  },
  {
   "cell_type": "code",
   "execution_count": 8,
   "id": "b1fded99-2291-4aff-a2cb-c82fcb0e8af7",
   "metadata": {},
   "outputs": [
    {
     "name": "stdout",
     "output_type": "stream",
     "text": [
      "30112\n"
     ]
    },
    {
     "data": {
      "text/html": [
       "<div>\n",
       "<style scoped>\n",
       "    .dataframe tbody tr th:only-of-type {\n",
       "        vertical-align: middle;\n",
       "    }\n",
       "\n",
       "    .dataframe tbody tr th {\n",
       "        vertical-align: top;\n",
       "    }\n",
       "\n",
       "    .dataframe thead th {\n",
       "        text-align: right;\n",
       "    }\n",
       "</style>\n",
       "<table border=\"1\" class=\"dataframe\">\n",
       "  <thead>\n",
       "    <tr style=\"text-align: right;\">\n",
       "      <th></th>\n",
       "      <th>Text</th>\n",
       "      <th>Sentiment</th>\n",
       "    </tr>\n",
       "  </thead>\n",
       "  <tbody>\n",
       "    <tr>\n",
       "      <th>2</th>\n",
       "      <td>Shahab Uddin Yeah</td>\n",
       "      <td>NaN</td>\n",
       "    </tr>\n",
       "    <tr>\n",
       "      <th>3</th>\n",
       "      <td>Original dub then drop link</td>\n",
       "      <td>Neutral</td>\n",
       "    </tr>\n",
       "    <tr>\n",
       "      <th>4</th>\n",
       "      <td>From where can i watch it?</td>\n",
       "      <td>Neutral</td>\n",
       "    </tr>\n",
       "    <tr>\n",
       "      <th>5</th>\n",
       "      <td>Didn't like it.</td>\n",
       "      <td>Negative</td>\n",
       "    </tr>\n",
       "    <tr>\n",
       "      <th>6</th>\n",
       "      <td>Farooq Sattar same here....</td>\n",
       "      <td>Neutral</td>\n",
       "    </tr>\n",
       "  </tbody>\n",
       "</table>\n",
       "</div>"
      ],
      "text/plain": [
       "                          Text Sentiment\n",
       "2            Shahab Uddin Yeah       NaN\n",
       "3  Original dub then drop link   Neutral\n",
       "4   From where can i watch it?   Neutral\n",
       "5              Didn't like it.  Negative\n",
       "6  Farooq Sattar same here....   Neutral"
      ]
     },
     "execution_count": 8,
     "metadata": {},
     "output_type": "execute_result"
    }
   ],
   "source": [
    "mask = (df['Text'].str.len() <= 40)\n",
    "df = df.loc[mask]\n",
    "\n",
    "print(df.size)\n",
    "df.head()"
   ]
  },
  {
   "cell_type": "code",
   "execution_count": 9,
   "id": "ff054b2a-61b2-4903-89ad-6b0e5e131519",
   "metadata": {},
   "outputs": [
    {
     "data": {
      "image/png": "[encoded data removed]",
      "text/plain": [
       "<Figure size 432x288 with 1 Axes>"
      ]
     },
     "metadata": {
      "needs_background": "light"
     },
     "output_type": "display_data"
    },
    {
     "name": "stdout",
     "output_type": "stream",
     "text": [
      "Number of data points in class 3 : 6642 ( 44.115 %)\n",
      "Number of data points in class 4 : 2753 ( 18.285 %)\n",
      "Number of data points in class 2 : 1669 ( 11.085 %)\n",
      "Number of data points in class 1 : 45 ( 0.299 %)\n"
     ]
    }
   ],
   "source": [
    "def display_distribution(class_distribution, split_data_type, data_shape):\n",
    "    my_colors = 'rgbkymc'\n",
    "    class_distribution.plot(kind='bar')\n",
    "    plt.xlabel('Class')\n",
    "    plt.ylabel('Data points per Class')\n",
    "    plt.title(f'Distribution of yi in {split_data_type} data')\n",
    "    plt.grid()\n",
    "    plt.show()\n",
    "    \n",
    "    # ref: argsort https://docs.scipy.org/doc/numpy/reference/generated/numpy.argsort.html\n",
    "    # -(class_distribution.values): the minus sign will give us in decreasing order\n",
    "    sorted_yi = np.argsort(-class_distribution.values)\n",
    "    for i in sorted_yi:\n",
    "        print('Number of data points in class', i+1, ':',class_distribution.values[i], '(', np.round((class_distribution.values[i]/data_shape*100), 3), '%)')\n",
    "\n",
    "class_distribution = df['Sentiment'].value_counts().sort_index()\n",
    "display_distribution(class_distribution=class_distribution, split_data_type=\"all\", data_shape=df.shape[0])"
   ]
  },
  {
   "cell_type": "code",
   "execution_count": 10,
   "id": "9060ba16-35ca-405c-9592-e730522c0759",
   "metadata": {},
   "outputs": [
    {
     "name": "stdout",
     "output_type": "stream",
     "text": [
      "[nan 'Neutral' 'Negative' 'Positive' 'Mixed']\n"
     ]
    },
    {
     "data": {
      "text/plain": [
       "(11109, 2)"
      ]
     },
     "execution_count": 10,
     "metadata": {},
     "output_type": "execute_result"
    }
   ],
   "source": [
    "print(df['Sentiment'].unique())\n",
    "df.dropna(inplace=True)\n",
    "df['Sentiment'].unique()\n",
    "df.shape"
   ]
  },
  {
   "cell_type": "code",
   "execution_count": 11,
   "id": "a66a49db-b71a-490b-bf13-c6aba95873c4",
   "metadata": {},
   "outputs": [
    {
     "name": "stdout",
     "output_type": "stream",
     "text": [
      "Number of data points in our data (11109, 2)\n"
     ]
    },
    {
     "data": {
      "text/html": [
       "<div>\n",
       "<style scoped>\n",
       "    .dataframe tbody tr th:only-of-type {\n",
       "        vertical-align: middle;\n",
       "    }\n",
       "\n",
       "    .dataframe tbody tr th {\n",
       "        vertical-align: top;\n",
       "    }\n",
       "\n",
       "    .dataframe thead th {\n",
       "        text-align: right;\n",
       "    }\n",
       "</style>\n",
       "<table border=\"1\" class=\"dataframe\">\n",
       "  <thead>\n",
       "    <tr style=\"text-align: right;\">\n",
       "      <th></th>\n",
       "      <th>Text</th>\n",
       "      <th>Sentiment</th>\n",
       "    </tr>\n",
       "  </thead>\n",
       "  <tbody>\n",
       "    <tr>\n",
       "      <th>3</th>\n",
       "      <td>Original dub then drop link</td>\n",
       "      <td>2</td>\n",
       "    </tr>\n",
       "    <tr>\n",
       "      <th>4</th>\n",
       "      <td>From where can i watch it?</td>\n",
       "      <td>2</td>\n",
       "    </tr>\n",
       "    <tr>\n",
       "      <th>5</th>\n",
       "      <td>Didn't like it.</td>\n",
       "      <td>1</td>\n",
       "    </tr>\n",
       "    <tr>\n",
       "      <th>6</th>\n",
       "      <td>Farooq Sattar same here....</td>\n",
       "      <td>2</td>\n",
       "    </tr>\n",
       "    <tr>\n",
       "      <th>8</th>\n",
       "      <td>And jack is in it tooo</td>\n",
       "      <td>2</td>\n",
       "    </tr>\n",
       "  </tbody>\n",
       "</table>\n",
       "</div>"
      ],
      "text/plain": [
       "                          Text  Sentiment\n",
       "3  Original dub then drop link          2\n",
       "4   From where can i watch it?          2\n",
       "5              Didn't like it.          1\n",
       "6  Farooq Sattar same here....          2\n",
       "8       And jack is in it tooo          2"
      ]
     },
     "execution_count": 11,
     "metadata": {},
     "output_type": "execute_result"
    }
   ],
   "source": [
    "# Change column \"Score\" values \n",
    "## 1-5(1/2 => negative, 3 => neutral, 4/5 => positive) to\n",
    "## 0-1(negative/positive)\n",
    "\n",
    "def partition(x):\n",
    "    \"\"\"\n",
    "    Score>3 a positive rating,\n",
    "    Score<3 a negative rating.\n",
    "    \"\"\"\n",
    "    if x == 'Positive':\n",
    "        return 0\n",
    "    elif x == 'Negative':\n",
    "        return 1\n",
    "    elif x == 'Neutral':\n",
    "        return 2\n",
    "    elif x == 'Mixed':\n",
    "        return 3\n",
    "\n",
    "# changing reviews with score less than 3 to be positive and vice-versa\n",
    "actualScore = df['Sentiment']\n",
    "positiveNegative = actualScore.map(partition) \n",
    "df['Sentiment'] = positiveNegative\n",
    "\n",
    "print(\"Number of data points in our data\", df.shape)\n",
    "df.head()"
   ]
  },
  {
   "cell_type": "code",
   "execution_count": 12,
   "id": "ae15fdb1-34bb-41cf-b2dd-43f8bbfd851f",
   "metadata": {},
   "outputs": [
    {
     "name": "stderr",
     "output_type": "stream",
     "text": [
      "100%|███████████████████████████████████| 11109/11109 [00:08<00:00, 1297.39it/s]\n"
     ]
    },
    {
     "data": {
      "text/html": [
       "<div>\n",
       "<style scoped>\n",
       "    .dataframe tbody tr th:only-of-type {\n",
       "        vertical-align: middle;\n",
       "    }\n",
       "\n",
       "    .dataframe tbody tr th {\n",
       "        vertical-align: top;\n",
       "    }\n",
       "\n",
       "    .dataframe thead th {\n",
       "        text-align: right;\n",
       "    }\n",
       "</style>\n",
       "<table border=\"1\" class=\"dataframe\">\n",
       "  <thead>\n",
       "    <tr style=\"text-align: right;\">\n",
       "      <th></th>\n",
       "      <th>Sentiment</th>\n",
       "      <th>processed_text</th>\n",
       "    </tr>\n",
       "  </thead>\n",
       "  <tbody>\n",
       "    <tr>\n",
       "      <th>3</th>\n",
       "      <td>2</td>\n",
       "      <td>original dob ten drop linq</td>\n",
       "    </tr>\n",
       "    <tr>\n",
       "      <th>4</th>\n",
       "      <td>2</td>\n",
       "      <td>from were can i watc it</td>\n",
       "    </tr>\n",
       "    <tr>\n",
       "      <th>5</th>\n",
       "      <td>1</td>\n",
       "      <td>didn t like it</td>\n",
       "    </tr>\n",
       "    <tr>\n",
       "      <th>6</th>\n",
       "      <td>2</td>\n",
       "      <td>froq sattr same here</td>\n",
       "    </tr>\n",
       "    <tr>\n",
       "      <th>8</th>\n",
       "      <td>2</td>\n",
       "      <td>and jack it</td>\n",
       "    </tr>\n",
       "  </tbody>\n",
       "</table>\n",
       "</div>"
      ],
      "text/plain": [
       "   Sentiment              processed_text\n",
       "3          2  original dob ten drop linq\n",
       "4          2     from were can i watc it\n",
       "5          1              didn t like it\n",
       "6          2        froq sattr same here\n",
       "8          2                 and jack it"
      ]
     },
     "execution_count": 12,
     "metadata": {},
     "output_type": "execute_result"
    }
   ],
   "source": [
    "def decontracted(word):\n",
    "    # https://www.kaggle.com/smat26/sentiment-analysis-on-roman-urdu\n",
    "    import re\n",
    "    import bs4 as bs\n",
    "    # import re\n",
    "\n",
    "    word = re.sub(r'ain$', r'ein', word)\n",
    "    word = re.sub(r'ai', r'ae', word)\n",
    "    word = re.sub(r'ay$', r'e', word)\n",
    "    word = re.sub(r'ey$', r'e', word)\n",
    "    word = re.sub(r'ie$', r'y', word)\n",
    "    word = re.sub(r'^es', r'is', word)\n",
    "    word = re.sub(r'a+', r'a', word)\n",
    "    word = re.sub(r'j+', r'j', word)\n",
    "    word = re.sub(r'd+', r'd', word)\n",
    "    word = re.sub(r'u', r'o', word)\n",
    "    word = re.sub(r'o+', r'o', word)\n",
    "    word = re.sub(r'ee+', r'i', word)\n",
    "    if not re.match(r'ar', word):\n",
    "        word = re.sub(r'ar', r'r', word)\n",
    "        word = re.sub(r'iy+', r'i', word)\n",
    "        word = re.sub(r'ih+', r'eh', word)\n",
    "        word = re.sub(r's+', r's', word)\n",
    "    if re.search(r'[rst]y', 'word') and word[-1] != 'y':\n",
    "        word = re.sub(r'y', r'i', word)\n",
    "    if re.search(r'[bcdefghijklmnopqrtuvwxyz]i', word):\n",
    "        word = re.sub(r'i$', r'y', word)\n",
    "    if re.search(r'[acefghijlmnoqrstuvwxyz]h', word):\n",
    "        word = re.sub(r'h', '', word)\n",
    "        word = re.sub(r'k', r'q', word)\n",
    "        \n",
    "    word = re.sub(r'\\#\\.', '', word)\n",
    "    word = re.sub(r'\\n', '', word)\n",
    "    word = re.sub(r',', '', word)\n",
    "    word = re.sub(r'\\-', ' ', word)\n",
    "    word = re.sub(r'\\.', '', word)\n",
    "    word = re.sub(r'\\\\', ' ', word)\n",
    "    word = re.sub(r'\\\\x\\.+', '', word)\n",
    "    word = re.sub(r'\\d', '', word)\n",
    "    word = re.sub(r'^_.', '', word)\n",
    "    word = re.sub(r'_', ' ', word)\n",
    "    word = re.sub(r'^ ', '', word)\n",
    "    word = re.sub(r' $', '', word)\n",
    "    word = re.sub(r'\\?', '', word)\n",
    "    \n",
    "    # Remove HTML tags\n",
    "    word = re.sub(r\"http\\S+\", \"\", word)\n",
    "    word = bs.BeautifulSoup(word, 'lxml').get_text()\n",
    "\n",
    "    # Remove numeric values including alphanueric value\n",
    "    word = re.sub(\"\\S*\\d\\S*\", \"\", word).strip()\n",
    "\n",
    "    # Remove special chars\n",
    "    word = re.sub('[^A-Za-z]+', ' ', word)\n",
    "    return word.lower()\n",
    "    \n",
    "def lemmatizing(text):\n",
    "    from nltk.stem import WordNetLemmatizer\n",
    "    from nltk import word_tokenize\n",
    "\n",
    "    lemmatizer = WordNetLemmatizer()\n",
    "    tokens = word_tokenize(text)\n",
    "    for i in range(len(tokens)):\n",
    "        lemma_word = lemmatizer.lemmatize(tokens[i])\n",
    "        tokens[i] = lemma_word\n",
    "    return \" \".join(tokens)\n",
    "\n",
    "def text_preprocessing(df_text):\n",
    "    from tqdm import tqdm\n",
    "    \n",
    "    preprocessed_msg = []\n",
    "    # tqdm is for printing the status bar\n",
    "    for sentance in tqdm(df_text.values):\n",
    "        # Remove undesired chars\n",
    "        sentance = decontracted(sentance)\n",
    "        # sentance = lemmatizing(sentance)\n",
    "\n",
    "        # Stop words\n",
    "        ## https://deepnote.com/@umaimakhh/Sentimental-Analysis-on-Roman-Urdu-CYPLZfCxTjWGLxWzS2BaDg\n",
    "        ## some words like Mein - Ma - Maa\n",
    "        stopwords= ['uski', 'krna', 'kch', 'gai', 'raha', 'you', 'le', 'ki', 'krta', 'ga', 'jo', 'haan', 'de',\n",
    "                    'hun', 'ho', 'meri', 'is', 'jee', 'lg', 'dain', 'hoa', 'jati', 'jana', 'rahi', 'kar', 'tou',\n",
    "                    'photo', 'rha', 'ayi', 'wala', 'lye', 'kis', 'sy', 'ne', 'wohi', 'gy', 'gi', 'ny', 'hi', 'ab', 'gaya',\n",
    "                    'je', 'hotay', 'jata', 'pe', 'hota', 'aye', 'me', 'tha', 'rahay', 'rhy', 'gya', 'us', 'thay', 'bhi',\n",
    "                    'liye', 'sent', 'hai', 'aur', 'thi', 'jye', 'dono', 'phr', 'yehi', 'to', 'na', 'main', 'abi', 'hum',\n",
    "                    'koi', 'hova', 'hain', 'ja', 'un', 'par', 'kafi', 'kr', 'hy', 'karna', 'h', 'krny', 'wo', 'kay', 'acha',\n",
    "                    'mil', 'jb', 'ya', 'kya', 'ai', 'kuch', 'se', 'woh', 'thy', 'ap', 'houn', 'hay', 'sb', 'ka', 'he', 'han',\n",
    "                    'chal', 'in', 'waisay', 'aese', 'hui', 'or', 'tu', 'ko', 'yeh']# , 'nai'\n",
    "\n",
    "        \n",
    "        sentance = ' '.join(e.lower() for e in sentance.split() if e.lower() not in stopwords)\n",
    "\n",
    "        # Append processed sentense to list\n",
    "        preprocessed_msg.append(sentance.strip())\n",
    "        \n",
    "    return preprocessed_msg\n",
    "        \n",
    "df['processed_text'] = text_preprocessing(df['Text'].astype(\"str\"))\n",
    "df.drop('Text', axis=1, inplace=True)\n",
    "df.head()"
   ]
  },
  {
   "cell_type": "code",
   "execution_count": 13,
   "id": "8861460d-f2a1-48ff-a7a3-090e63dd4752",
   "metadata": {},
   "outputs": [
    {
     "data": {
      "image/png": "[encoded data removed]",
      "text/plain": [
       "<Figure size 432x288 with 1 Axes>"
      ]
     },
     "metadata": {
      "needs_background": "light"
     },
     "output_type": "display_data"
    },
    {
     "name": "stdout",
     "output_type": "stream",
     "text": [
      "Number of data points in class 3 : 6642 ( 59.789 %)\n",
      "Number of data points in class 4 : 2753 ( 24.782 %)\n",
      "Number of data points in class 2 : 1669 ( 15.024 %)\n",
      "Number of data points in class 1 : 45 ( 0.405 %)\n"
     ]
    }
   ],
   "source": [
    "display_distribution(class_distribution=class_distribution, split_data_type=\"all\", data_shape=df.shape[0])"
   ]
  },
  {
   "cell_type": "code",
   "execution_count": 14,
   "id": "54284dae-e7b9-474f-a282-68f2a690b791",
   "metadata": {},
   "outputs": [
    {
     "data": {
      "text/plain": [
       "['data/01_processed_data.joblib']"
      ]
     },
     "execution_count": 14,
     "metadata": {},
     "output_type": "execute_result"
    }
   ],
   "source": [
    "os.chdir(\"/home/hamza/Documents/sentiments\")\n",
    "joblib.dump(df, 'data/01_processed_data.joblib')"
   ]
  },
  {
   "cell_type": "code",
   "execution_count": 37,
   "id": "0e26249c-37a0-4a35-948b-aa0b0b853c52",
   "metadata": {},
   "outputs": [],
   "source": [
    "df1 = df[df['Sentiment']==0][:317]\n",
    "df2 = df[df['Sentiment']==1][:317]\n",
    "df4 = df[df['Sentiment']==2][:317]\n",
    "\n",
    "dff = pd.concat([df1, df2,df4])# df3, df4])"
   ]
  },
  {
   "cell_type": "code",
   "execution_count": 13,
   "id": "b23b521f-c319-4356-bed7-a7e6fea56fac",
   "metadata": {},
   "outputs": [],
   "source": [
    "# joblib.dump(dff, 'data/03_downcasted_data.joblib')"
   ]
  },
  {
   "cell_type": "code",
   "execution_count": 9,
   "id": "e1d269c6-3923-41f7-a74d-5e9375d342b6",
   "metadata": {},
   "outputs": [],
   "source": [
    "df = joblib.load('/home/hamza/Documents/sentiments/data/01_processed_data.joblib')"
   ]
  },
  {
   "cell_type": "code",
   "execution_count": 10,
   "id": "70f8f2bc-5b4c-4d98-9bb5-c070f57280bd",
   "metadata": {},
   "outputs": [
    {
     "data": {
      "application/vnd.jupyter.widget-view+json": {
       "model_id": "41f68ea34cca4731a60988e4aebc59b4",
       "version_major": 2,
       "version_minor": 0
      },
      "text/plain": [
       "  0%|          | 0/1000 [00:00<?, ?it/s]"
      ]
     },
     "metadata": {},
     "output_type": "display_data"
    },
    {
     "data": {
      "application/vnd.jupyter.widget-view+json": {
       "model_id": "fae6e55825fc4509918065fc28127fb5",
       "version_major": 2,
       "version_minor": 0
      },
      "text/plain": [
       "  0%|          | 0/1500 [00:00<?, ?it/s]"
      ]
     },
     "metadata": {},
     "output_type": "display_data"
    }
   ],
   "source": [
    "## Upcasting\n",
    "def augmentMyData(df, augmenter, label, repetitions=1, samples=200):\n",
    "    from sklearn.utils import shuffle\n",
    "    augmented_texts = []\n",
    "    # select only the minority class samples\n",
    "    spam_df = df[df['Sentiment'] == label].reset_index(drop=True) # removes unecessary index column\n",
    "    for i in tqdm(np.random.randint(0, len(spam_df), samples)):\n",
    "        # generating 'n_samples' augmented texts\n",
    "        for _ in range(repetitions):\n",
    "            augmented_text = augmenter.augment(spam_df['processed_text'].iloc[i])\n",
    "            augmented_texts.append(augmented_text)\n",
    "    \n",
    "    data = {\n",
    "        'Sentiment': label,\n",
    "        'processed_text': augmented_texts\n",
    "    }\n",
    "    \n",
    "    aug_df = pd.DataFrame(data)\n",
    "    dff = shuffle(df.append(aug_df).reset_index(drop=True))\n",
    "    return dff\n",
    "\n",
    "import nlpaug.augmenter.word.context_word_embs as aug\n",
    "\n",
    "augmenter = aug.ContextualWordEmbsAug(model_path='bert-base-uncased', action=\"insert\")\n",
    "aug = augmentMyData(df, augmenter, samples=1000, label=0)\n",
    "aug_df = augmentMyData(aug, augmenter, samples=1500, label=1)"
   ]
  },
  {
   "cell_type": "code",
   "execution_count": 11,
   "id": "a336790d-3354-4fe1-b7e6-8f88b70bd2eb",
   "metadata": {},
   "outputs": [
    {
     "data": {
      "image/png": "[encoded data removed]",
      "text/plain": [
       "<Figure size 432x288 with 1 Axes>"
      ]
     },
     "metadata": {
      "needs_background": "light"
     },
     "output_type": "display_data"
    },
    {
     "name": "stdout",
     "output_type": "stream",
     "text": [
      "Number of data points in class 2 : 1817 ( 38.013 %)\n",
      "Number of data points in class 1 : 1643 ( 34.372 %)\n",
      "Number of data points in class 3 : 1318 ( 27.573 %)\n",
      "Number of data points in class 4 : 2 ( 0.042 %)\n"
     ]
    }
   ],
   "source": [
    "class_distribution = aug_df['Sentiment'].value_counts().sort_index()\n",
    "display_distribution(class_distribution=class_distribution, split_data_type=\"all\", data_shape=aug_df.shape[0])"
   ]
  },
  {
   "cell_type": "code",
   "execution_count": 12,
   "id": "3c9ab28e-ec71-43ac-adf9-bf9f3866b642",
   "metadata": {},
   "outputs": [],
   "source": [
    "df1 = df[df['Sentiment']==0]\n",
    "df2 = df[df['Sentiment']==1]\n",
    "df4 = df[df['Sentiment']==2]\n",
    "\n",
    "aug_df = pd.concat([df1, df2,df4])# df3, df4])"
   ]
  },
  {
   "cell_type": "code",
   "execution_count": 13,
   "id": "0065cef3-3fa2-4725-b3dd-a8c26cdbfef3",
   "metadata": {},
   "outputs": [],
   "source": [
    "def split_data(dfff):\n",
    "    Y = dfff['Sentiment'].values\n",
    "    X = dfff['processed_text']\n",
    "    # https://scikit-learn.org/stable/modules/generated/sklearn.model_selection.train_test_split.html\n",
    "    from sklearn.model_selection import train_test_split\n",
    "\n",
    "    # Random sampling\n",
    "    return train_test_split(X, Y, test_size=0.20) "
   ]
  },
  {
   "cell_type": "code",
   "execution_count": 14,
   "id": "da74ae53-8ad4-456a-a1a4-60083a7d049b",
   "metadata": {},
   "outputs": [],
   "source": [
    "def tfidf(X_train, X_test):\n",
    "    from sklearn.feature_extraction.text import TfidfVectorizer\n",
    "    # from sklearn.metrics import confusion_matrix, accuracy_score, classification_report\n",
    "\n",
    "    vectorizer = TfidfVectorizer(max_features=1000)\n",
    "    X_train = vectorizer.fit_transform(X_train)\n",
    "    X_train = X_train.toarray()\n",
    "    print(X_train.shape)\n",
    "\n",
    "    X_test = vectorizer.transform(X_test)\n",
    "    X_test = X_test.toarray()\n",
    "    print(X_test.shape)\n",
    "    \n",
    "    return X_train, X_test"
   ]
  },
  {
   "cell_type": "code",
   "execution_count": 15,
   "id": "23298c49-ba94-4341-8288-6f2e7c3b668d",
   "metadata": {},
   "outputs": [],
   "source": [
    "def BestMLAlgo(nlp_model, x_train, x_test, y_train, y_test):\n",
    "    \"\"\"Identify best Algo on given dataset\"\"\"\n",
    "    from prettytable import PrettyTable\n",
    "    \n",
    "    table = PrettyTable()\n",
    "    table.field_names = [\"Vect\", \"Model\", \"Accuracy\", \"Precision\", \"Recall\", \"F1Score\", \"Log loss\", \"Roc Auc\"]\n",
    "                        \n",
    "    import warnings\n",
    "    warnings.filterwarnings(\"ignore\")\n",
    "    from sklearn.neighbors import KNeighborsClassifier\n",
    "    from sklearn.naive_bayes import MultinomialNB\n",
    "    from sklearn.linear_model import LogisticRegression\n",
    "    from sklearn.tree import DecisionTreeClassifier\n",
    "    from sklearn.ensemble import RandomForestClassifier\n",
    "    from sklearn.ensemble import AdaBoostClassifier\n",
    "    from sklearn.ensemble import GradientBoostingClassifier\n",
    "    from sklearn.linear_model import SGDClassifier\n",
    "    from sklearn.calibration import CalibratedClassifierCV\n",
    "    import xgboost\n",
    "    from sklearn import svm\n",
    "    from sklearn.metrics import precision_score, accuracy_score, roc_auc_score,\\\n",
    "                                roc_curve, auc, log_loss, recall_score\n",
    "    \n",
    "    base_models = {\n",
    "        'kNN': KNeighborsClassifier(),\n",
    "        'Naive Bayes': MultinomialNB(),\n",
    "        'Log. Reg.': LogisticRegression(),\n",
    "        'SVM Linear': SGDClassifier(class_weight='balanced', penalty='l2', loss='hinge', random_state=42),\n",
    "        'SVM Non-linear': svm.SVC(kernel='rbf'),\n",
    "        'Decision Tree': DecisionTreeClassifier(),\n",
    "        'Random Forest': RandomForestClassifier(),\n",
    "        'Gradient Boost': GradientBoostingClassifier(),\n",
    "        'Ada Boost': AdaBoostClassifier(),\n",
    "        'xgboost': xgboost.XGBClassifier(),\n",
    "    }          \n",
    "        \n",
    "    for model_name, model in base_models.items():\n",
    "        model.fit(x_train, y_train)\n",
    "        model = CalibratedClassifierCV(model, method=\"sigmoid\")\n",
    "        model.fit(x_train, y_train)\n",
    "        y_pred_proba = model.predict_proba(x_test)\n",
    "        y_pred = model.predict(x_test)\n",
    "            \n",
    "        # Performance metrics\n",
    "        accuracy        = round(accuracy_score(y_test, y_pred), 2)\n",
    "        precision       = round(precision_score(y_test, y_pred, average='micro'), 2)\n",
    "        recall          = round(recall_score(y_test, y_pred, average='micro'), 2)\n",
    "        f1_score        = round((2*recall*precision)/(recall+precision), 2)\n",
    "        loss            = round(log_loss(y_test, y_pred_proba, eps=1e-15), 2) # , labels=model.classes\n",
    "        roc_auc         = round(roc_auc_score(y_test, y_pred_proba, multi_class=\"ovr\"), 2)        \n",
    "        \n",
    "        table.add_row([nlp_model, model_name, accuracy, precision, recall, f1_score, loss, roc_auc])\n",
    "    print(table)"
   ]
  },
  {
   "cell_type": "markdown",
   "id": "c78281d7-11cd-4662-baca-751b99ddb470",
   "metadata": {},
   "source": [
    "### With Weights data"
   ]
  },
  {
   "cell_type": "code",
   "execution_count": 23,
   "id": "469c1b0f-a461-433a-aa51-01d6173f5cfc",
   "metadata": {},
   "outputs": [
    {
     "name": "stdout",
     "output_type": "stream",
     "text": [
      "(1824, 1000)\n",
      "(456, 1000)\n",
      "(1824, 1000)   (456, 1000)   (1824,)   (456,)\n"
     ]
    }
   ],
   "source": [
    "X_train, X_test, y_train, y_test = split_data(df)\n",
    "X_train, X_test = tfidf(X_train, X_test)\n",
    "\n",
    "\n",
    "print(X_train.shape, \" \", X_test.shape, \" \", y_train.shape, \" \",y_test.shape)"
   ]
  },
  {
   "cell_type": "code",
   "execution_count": 22,
   "id": "afc2fa98-55bd-4b72-adff-28296cd7ec4f",
   "metadata": {},
   "outputs": [
    {
     "ename": "ValueError",
     "evalue": "y_true and y_pred contain different number of classes 3, 4. Please provide the true labels explicitly through the labels argument. Classes found in y_true: [0 1 2]",
     "output_type": "error",
     "traceback": [
      "\u001b[0;31m---------------------------------------------------------------------------\u001b[0m",
      "\u001b[0;31mValueError\u001b[0m                                Traceback (most recent call last)",
      "\u001b[0;32m/tmp/ipykernel_13481/2598757441.py\u001b[0m in \u001b[0;36m<module>\u001b[0;34m\u001b[0m\n\u001b[0;32m----> 1\u001b[0;31m \u001b[0mBestMLAlgo\u001b[0m\u001b[0;34m(\u001b[0m\u001b[0;34m\"TFIDF\"\u001b[0m\u001b[0;34m,\u001b[0m \u001b[0mX_train\u001b[0m\u001b[0;34m,\u001b[0m \u001b[0mX_test\u001b[0m\u001b[0;34m,\u001b[0m \u001b[0my_train\u001b[0m\u001b[0;34m,\u001b[0m \u001b[0my_test\u001b[0m\u001b[0;34m)\u001b[0m\u001b[0;34m\u001b[0m\u001b[0;34m\u001b[0m\u001b[0m\n\u001b[0m",
      "\u001b[0;32m/tmp/ipykernel_13481/1984056507.py\u001b[0m in \u001b[0;36mBestMLAlgo\u001b[0;34m(nlp_model, x_train, x_test, y_train, y_test)\u001b[0m\n\u001b[1;32m     47\u001b[0m         \u001b[0mrecall\u001b[0m          \u001b[0;34m=\u001b[0m \u001b[0mround\u001b[0m\u001b[0;34m(\u001b[0m\u001b[0mrecall_score\u001b[0m\u001b[0;34m(\u001b[0m\u001b[0my_test\u001b[0m\u001b[0;34m,\u001b[0m \u001b[0my_pred\u001b[0m\u001b[0;34m,\u001b[0m \u001b[0maverage\u001b[0m\u001b[0;34m=\u001b[0m\u001b[0;34m'micro'\u001b[0m\u001b[0;34m)\u001b[0m\u001b[0;34m,\u001b[0m \u001b[0;36m2\u001b[0m\u001b[0;34m)\u001b[0m\u001b[0;34m\u001b[0m\u001b[0;34m\u001b[0m\u001b[0m\n\u001b[1;32m     48\u001b[0m         \u001b[0mf1_score\u001b[0m        \u001b[0;34m=\u001b[0m \u001b[0mround\u001b[0m\u001b[0;34m(\u001b[0m\u001b[0;34m(\u001b[0m\u001b[0;36m2\u001b[0m\u001b[0;34m*\u001b[0m\u001b[0mrecall\u001b[0m\u001b[0;34m*\u001b[0m\u001b[0mprecision\u001b[0m\u001b[0;34m)\u001b[0m\u001b[0;34m/\u001b[0m\u001b[0;34m(\u001b[0m\u001b[0mrecall\u001b[0m\u001b[0;34m+\u001b[0m\u001b[0mprecision\u001b[0m\u001b[0;34m)\u001b[0m\u001b[0;34m,\u001b[0m \u001b[0;36m2\u001b[0m\u001b[0;34m)\u001b[0m\u001b[0;34m\u001b[0m\u001b[0;34m\u001b[0m\u001b[0m\n\u001b[0;32m---> 49\u001b[0;31m         \u001b[0mloss\u001b[0m            \u001b[0;34m=\u001b[0m \u001b[0mround\u001b[0m\u001b[0;34m(\u001b[0m\u001b[0mlog_loss\u001b[0m\u001b[0;34m(\u001b[0m\u001b[0my_test\u001b[0m\u001b[0;34m,\u001b[0m \u001b[0my_pred_proba\u001b[0m\u001b[0;34m,\u001b[0m \u001b[0meps\u001b[0m\u001b[0;34m=\u001b[0m\u001b[0;36m1e-15\u001b[0m\u001b[0;34m)\u001b[0m\u001b[0;34m,\u001b[0m \u001b[0;36m2\u001b[0m\u001b[0;34m)\u001b[0m \u001b[0;31m# , labels=model.classes\u001b[0m\u001b[0;34m\u001b[0m\u001b[0;34m\u001b[0m\u001b[0m\n\u001b[0m\u001b[1;32m     50\u001b[0m         \u001b[0mroc_auc\u001b[0m         \u001b[0;34m=\u001b[0m \u001b[0mround\u001b[0m\u001b[0;34m(\u001b[0m\u001b[0mroc_auc_score\u001b[0m\u001b[0;34m(\u001b[0m\u001b[0my_test\u001b[0m\u001b[0;34m,\u001b[0m \u001b[0my_pred_proba\u001b[0m\u001b[0;34m,\u001b[0m \u001b[0mmulti_class\u001b[0m\u001b[0;34m=\u001b[0m\u001b[0;34m\"ovr\"\u001b[0m\u001b[0;34m)\u001b[0m\u001b[0;34m,\u001b[0m \u001b[0;36m2\u001b[0m\u001b[0;34m)\u001b[0m\u001b[0;34m\u001b[0m\u001b[0;34m\u001b[0m\u001b[0m\n\u001b[1;32m     51\u001b[0m \u001b[0;34m\u001b[0m\u001b[0m\n",
      "\u001b[0;32m~/anaconda3/lib/python3.9/site-packages/sklearn/utils/validation.py\u001b[0m in \u001b[0;36minner_f\u001b[0;34m(*args, **kwargs)\u001b[0m\n\u001b[1;32m     61\u001b[0m             \u001b[0mextra_args\u001b[0m \u001b[0;34m=\u001b[0m \u001b[0mlen\u001b[0m\u001b[0;34m(\u001b[0m\u001b[0margs\u001b[0m\u001b[0;34m)\u001b[0m \u001b[0;34m-\u001b[0m \u001b[0mlen\u001b[0m\u001b[0;34m(\u001b[0m\u001b[0mall_args\u001b[0m\u001b[0;34m)\u001b[0m\u001b[0;34m\u001b[0m\u001b[0;34m\u001b[0m\u001b[0m\n\u001b[1;32m     62\u001b[0m             \u001b[0;32mif\u001b[0m \u001b[0mextra_args\u001b[0m \u001b[0;34m<=\u001b[0m \u001b[0;36m0\u001b[0m\u001b[0;34m:\u001b[0m\u001b[0;34m\u001b[0m\u001b[0;34m\u001b[0m\u001b[0m\n\u001b[0;32m---> 63\u001b[0;31m                 \u001b[0;32mreturn\u001b[0m \u001b[0mf\u001b[0m\u001b[0;34m(\u001b[0m\u001b[0;34m*\u001b[0m\u001b[0margs\u001b[0m\u001b[0;34m,\u001b[0m \u001b[0;34m**\u001b[0m\u001b[0mkwargs\u001b[0m\u001b[0;34m)\u001b[0m\u001b[0;34m\u001b[0m\u001b[0;34m\u001b[0m\u001b[0m\n\u001b[0m\u001b[1;32m     64\u001b[0m \u001b[0;34m\u001b[0m\u001b[0m\n\u001b[1;32m     65\u001b[0m             \u001b[0;31m# extra_args > 0\u001b[0m\u001b[0;34m\u001b[0m\u001b[0;34m\u001b[0m\u001b[0m\n",
      "\u001b[0;32m~/anaconda3/lib/python3.9/site-packages/sklearn/metrics/_classification.py\u001b[0m in \u001b[0;36mlog_loss\u001b[0;34m(y_true, y_pred, eps, normalize, sample_weight, labels)\u001b[0m\n\u001b[1;32m   2267\u001b[0m     \u001b[0;32mif\u001b[0m \u001b[0mlen\u001b[0m\u001b[0;34m(\u001b[0m\u001b[0mlb\u001b[0m\u001b[0;34m.\u001b[0m\u001b[0mclasses_\u001b[0m\u001b[0;34m)\u001b[0m \u001b[0;34m!=\u001b[0m \u001b[0my_pred\u001b[0m\u001b[0;34m.\u001b[0m\u001b[0mshape\u001b[0m\u001b[0;34m[\u001b[0m\u001b[0;36m1\u001b[0m\u001b[0;34m]\u001b[0m\u001b[0;34m:\u001b[0m\u001b[0;34m\u001b[0m\u001b[0;34m\u001b[0m\u001b[0m\n\u001b[1;32m   2268\u001b[0m         \u001b[0;32mif\u001b[0m \u001b[0mlabels\u001b[0m \u001b[0;32mis\u001b[0m \u001b[0;32mNone\u001b[0m\u001b[0;34m:\u001b[0m\u001b[0;34m\u001b[0m\u001b[0;34m\u001b[0m\u001b[0m\n\u001b[0;32m-> 2269\u001b[0;31m             raise ValueError(\"y_true and y_pred contain different number of \"\n\u001b[0m\u001b[1;32m   2270\u001b[0m                              \u001b[0;34m\"classes {0}, {1}. Please provide the true \"\u001b[0m\u001b[0;34m\u001b[0m\u001b[0;34m\u001b[0m\u001b[0m\n\u001b[1;32m   2271\u001b[0m                              \u001b[0;34m\"labels explicitly through the labels argument. \"\u001b[0m\u001b[0;34m\u001b[0m\u001b[0;34m\u001b[0m\u001b[0m\n",
      "\u001b[0;31mValueError\u001b[0m: y_true and y_pred contain different number of classes 3, 4. Please provide the true labels explicitly through the labels argument. Classes found in y_true: [0 1 2]"
     ]
    }
   ],
   "source": [
    "BestMLAlgo(\"TFIDF\", X_train, X_test, y_train, y_test)"
   ]
  },
  {
   "cell_type": "markdown",
   "id": "6e90ff8c-05d3-4392-b0be-28b45320c3cf",
   "metadata": {},
   "source": [
    "### Downcasted data"
   ]
  },
  {
   "cell_type": "code",
   "execution_count": 38,
   "id": "c55a078b-6e86-48ce-9f34-4c5eff6dc9df",
   "metadata": {},
   "outputs": [
    {
     "name": "stdout",
     "output_type": "stream",
     "text": [
      "(760, 1000)\n",
      "(191, 1000)\n",
      "(760, 1000)   (191, 1000)   (760,)   (191,)\n"
     ]
    }
   ],
   "source": [
    "X_train, X_test, y_train, y_test = split_data(dff)\n",
    "X_train, X_test = tfidf(X_train, X_test)\n",
    "\n",
    "\n",
    "print(X_train.shape, \" \", X_test.shape, \" \", y_train.shape, \" \",y_test.shape)"
   ]
  },
  {
   "cell_type": "code",
   "execution_count": 39,
   "id": "8403f7cd-aabf-4e62-8e07-a363308bc94f",
   "metadata": {},
   "outputs": [
    {
     "name": "stdout",
     "output_type": "stream",
     "text": [
      "[11:23:35] WARNING: ../src/learner.cc:1115: Starting in XGBoost 1.3.0, the default evaluation metric used with the objective 'multi:softprob' was changed from 'merror' to 'mlogloss'. Explicitly set eval_metric if you'd like to restore the old behavior.\n",
      "[11:23:39] WARNING: ../src/learner.cc:1115: Starting in XGBoost 1.3.0, the default evaluation metric used with the objective 'multi:softprob' was changed from 'merror' to 'mlogloss'. Explicitly set eval_metric if you'd like to restore the old behavior.\n",
      "[11:23:41] WARNING: ../src/learner.cc:1115: Starting in XGBoost 1.3.0, the default evaluation metric used with the objective 'multi:softprob' was changed from 'merror' to 'mlogloss'. Explicitly set eval_metric if you'd like to restore the old behavior.\n",
      "[11:23:44] WARNING: ../src/learner.cc:1115: Starting in XGBoost 1.3.0, the default evaluation metric used with the objective 'multi:softprob' was changed from 'merror' to 'mlogloss'. Explicitly set eval_metric if you'd like to restore the old behavior.\n",
      "[11:23:47] WARNING: ../src/learner.cc:1115: Starting in XGBoost 1.3.0, the default evaluation metric used with the objective 'multi:softprob' was changed from 'merror' to 'mlogloss'. Explicitly set eval_metric if you'd like to restore the old behavior.\n",
      "[11:23:50] WARNING: ../src/learner.cc:1115: Starting in XGBoost 1.3.0, the default evaluation metric used with the objective 'multi:softprob' was changed from 'merror' to 'mlogloss'. Explicitly set eval_metric if you'd like to restore the old behavior.\n",
      "+-------+----------------+----------+-----------+--------+---------+----------+---------+\n",
      "|  Vect |     Model      | Accuracy | Precision | Recall | F1Score | Log loss | Roc Auc |\n",
      "+-------+----------------+----------+-----------+--------+---------+----------+---------+\n",
      "| TFIDF |      kNN       |   0.6    |    0.6    |  0.6   |   0.6   |   0.92   |   0.77  |\n",
      "| TFIDF |  Naive Bayes   |   0.66   |    0.66   |  0.66  |   0.66  |   0.8    |   0.82  |\n",
      "| TFIDF |   Log. Reg.    |   0.68   |    0.68   |  0.68  |   0.68  |   0.78   |   0.83  |\n",
      "| TFIDF |   SVM Linear   |   0.69   |    0.69   |  0.69  |   0.69  |   0.79   |   0.83  |\n",
      "| TFIDF | SVM Non-linear |   0.65   |    0.65   |  0.65  |   0.65  |   0.85   |   0.8   |\n",
      "| TFIDF | Decision Tree  |   0.6    |    0.6    |  0.6   |   0.6   |   0.86   |   0.81  |\n",
      "| TFIDF | Random Forest  |   0.63   |    0.63   |  0.63  |   0.63  |   0.78   |   0.83  |\n",
      "| TFIDF | Gradient Boost |   0.65   |    0.65   |  0.65  |   0.65  |   0.88   |   0.84  |\n",
      "| TFIDF |   Ada Boost    |   0.61   |    0.61   |  0.61  |   0.61  |   0.89   |   0.75  |\n",
      "| TFIDF |    xgboost     |   0.63   |    0.63   |  0.63  |   0.63  |   0.85   |   0.8   |\n",
      "+-------+----------------+----------+-----------+--------+---------+----------+---------+\n"
     ]
    }
   ],
   "source": [
    "BestMLAlgo(\"TFIDF\", X_train, X_test, y_train, y_test)"
   ]
  },
  {
   "cell_type": "markdown",
   "id": "4d656c9e-8599-4e42-90eb-2b856285f842",
   "metadata": {},
   "source": [
    "### Upcasting"
   ]
  },
  {
   "cell_type": "code",
   "execution_count": 16,
   "id": "2659e7bb-ac9b-484c-8409-b76dc37ed9e3",
   "metadata": {},
   "outputs": [
    {
     "name": "stdout",
     "output_type": "stream",
     "text": [
      "(1822, 1000)\n",
      "(456, 1000)\n",
      "(1822, 1000)   (456, 1000)   (1822,)   (456,)\n"
     ]
    }
   ],
   "source": [
    "X_train, X_test, y_train, y_test = split_data(aug_df)\n",
    "X_train, X_test = tfidf(X_train, X_test)\n",
    "\n",
    "\n",
    "print(X_train.shape, \" \", X_test.shape, \" \", y_train.shape, \" \",y_test.shape)"
   ]
  },
  {
   "cell_type": "code",
   "execution_count": 17,
   "id": "fb6259da-b8fd-4bd4-a064-a4632ea63f1c",
   "metadata": {},
   "outputs": [
    {
     "name": "stdout",
     "output_type": "stream",
     "text": [
      "[12:18:57] WARNING: ../src/learner.cc:1115: Starting in XGBoost 1.3.0, the default evaluation metric used with the objective 'multi:softprob' was changed from 'merror' to 'mlogloss'. Explicitly set eval_metric if you'd like to restore the old behavior.\n",
      "[12:19:05] WARNING: ../src/learner.cc:1115: Starting in XGBoost 1.3.0, the default evaluation metric used with the objective 'multi:softprob' was changed from 'merror' to 'mlogloss'. Explicitly set eval_metric if you'd like to restore the old behavior.\n",
      "[12:19:12] WARNING: ../src/learner.cc:1115: Starting in XGBoost 1.3.0, the default evaluation metric used with the objective 'multi:softprob' was changed from 'merror' to 'mlogloss'. Explicitly set eval_metric if you'd like to restore the old behavior.\n",
      "[12:19:18] WARNING: ../src/learner.cc:1115: Starting in XGBoost 1.3.0, the default evaluation metric used with the objective 'multi:softprob' was changed from 'merror' to 'mlogloss'. Explicitly set eval_metric if you'd like to restore the old behavior.\n",
      "[12:19:25] WARNING: ../src/learner.cc:1115: Starting in XGBoost 1.3.0, the default evaluation metric used with the objective 'multi:softprob' was changed from 'merror' to 'mlogloss'. Explicitly set eval_metric if you'd like to restore the old behavior.\n",
      "[12:19:32] WARNING: ../src/learner.cc:1115: Starting in XGBoost 1.3.0, the default evaluation metric used with the objective 'multi:softprob' was changed from 'merror' to 'mlogloss'. Explicitly set eval_metric if you'd like to restore the old behavior.\n",
      "+-------+----------------+----------+-----------+--------+---------+----------+---------+\n",
      "|  Vect |     Model      | Accuracy | Precision | Recall | F1Score | Log loss | Roc Auc |\n",
      "+-------+----------------+----------+-----------+--------+---------+----------+---------+\n",
      "| TFIDF |      kNN       |   0.63   |    0.63   |  0.63  |   0.63  |   0.83   |   0.74  |\n",
      "| TFIDF |  Naive Bayes   |   0.72   |    0.72   |  0.72  |   0.72  |   0.72   |   0.82  |\n",
      "| TFIDF |   Log. Reg.    |   0.73   |    0.73   |  0.73  |   0.73  |   0.71   |   0.82  |\n",
      "| TFIDF |   SVM Linear   |   0.7    |    0.7    |  0.7   |   0.7   |   0.74   |   0.81  |\n",
      "| TFIDF | SVM Non-linear |   0.71   |    0.71   |  0.71  |   0.71  |   0.76   |   0.8   |\n",
      "| TFIDF | Decision Tree  |   0.69   |    0.69   |  0.69  |   0.69  |   0.77   |   0.8   |\n",
      "| TFIDF | Random Forest  |   0.71   |    0.71   |  0.71  |   0.71  |   0.72   |   0.82  |\n",
      "| TFIDF | Gradient Boost |   0.7    |    0.7    |  0.7   |   0.7   |   0.77   |   0.8   |\n",
      "| TFIDF |   Ada Boost    |   0.61   |    0.61   |  0.61  |   0.61  |   0.83   |   0.74  |\n",
      "| TFIDF |    xgboost     |   0.71   |    0.71   |  0.71  |   0.71  |   0.74   |   0.81  |\n",
      "+-------+----------------+----------+-----------+--------+---------+----------+---------+\n"
     ]
    }
   ],
   "source": [
    "BestMLAlgo(\"TFIDF\", X_train, X_test, y_train, y_test)"
   ]
  },
  {
   "cell_type": "code",
   "execution_count": 18,
   "id": "09554d44-0862-43f3-bee4-f7b4d3610510",
   "metadata": {},
   "outputs": [],
   "source": [
    "df1 = df[df['Sentiment']==0][:1250]\n",
    "df2 = df[df['Sentiment']==1][:1250]\n",
    "df4 = df[df['Sentiment']==2][:1250]\n",
    "\n",
    "aug_df_down = pd.concat([df1, df2,df4])# df3, df"
   ]
  },
  {
   "cell_type": "code",
   "execution_count": 19,
   "id": "31801109-9d42-4659-9c75-a1eb9ec04dc2",
   "metadata": {},
   "outputs": [
    {
     "name": "stdout",
     "output_type": "stream",
     "text": [
      "(1768, 1000)\n",
      "(442, 1000)\n",
      "(1768, 1000)   (442, 1000)   (1768,)   (442,)\n"
     ]
    }
   ],
   "source": [
    "X_train, X_test, y_train, y_test = split_data(aug_df_down)\n",
    "X_train, X_test = tfidf(X_train, X_test)\n",
    "\n",
    "\n",
    "print(X_train.shape, \" \", X_test.shape, \" \", y_train.shape, \" \",y_test.shape)"
   ]
  },
  {
   "cell_type": "code",
   "execution_count": 20,
   "id": "00120813-2ede-421e-8041-7e3f4de55f9c",
   "metadata": {},
   "outputs": [
    {
     "name": "stdout",
     "output_type": "stream",
     "text": [
      "[12:21:08] WARNING: ../src/learner.cc:1115: Starting in XGBoost 1.3.0, the default evaluation metric used with the objective 'multi:softprob' was changed from 'merror' to 'mlogloss'. Explicitly set eval_metric if you'd like to restore the old behavior.\n",
      "[12:21:16] WARNING: ../src/learner.cc:1115: Starting in XGBoost 1.3.0, the default evaluation metric used with the objective 'multi:softprob' was changed from 'merror' to 'mlogloss'. Explicitly set eval_metric if you'd like to restore the old behavior.\n",
      "[12:21:22] WARNING: ../src/learner.cc:1115: Starting in XGBoost 1.3.0, the default evaluation metric used with the objective 'multi:softprob' was changed from 'merror' to 'mlogloss'. Explicitly set eval_metric if you'd like to restore the old behavior.\n",
      "[12:21:28] WARNING: ../src/learner.cc:1115: Starting in XGBoost 1.3.0, the default evaluation metric used with the objective 'multi:softprob' was changed from 'merror' to 'mlogloss'. Explicitly set eval_metric if you'd like to restore the old behavior.\n",
      "[12:21:35] WARNING: ../src/learner.cc:1115: Starting in XGBoost 1.3.0, the default evaluation metric used with the objective 'multi:softprob' was changed from 'merror' to 'mlogloss'. Explicitly set eval_metric if you'd like to restore the old behavior.\n",
      "[12:21:41] WARNING: ../src/learner.cc:1115: Starting in XGBoost 1.3.0, the default evaluation metric used with the objective 'multi:softprob' was changed from 'merror' to 'mlogloss'. Explicitly set eval_metric if you'd like to restore the old behavior.\n",
      "+-------+----------------+----------+-----------+--------+---------+----------+---------+\n",
      "|  Vect |     Model      | Accuracy | Precision | Recall | F1Score | Log loss | Roc Auc |\n",
      "+-------+----------------+----------+-----------+--------+---------+----------+---------+\n",
      "| TFIDF |      kNN       |   0.66   |    0.66   |  0.66  |   0.66  |   0.81   |   0.77  |\n",
      "| TFIDF |  Naive Bayes   |   0.71   |    0.71   |  0.71  |   0.71  |   0.73   |   0.81  |\n",
      "| TFIDF |   Log. Reg.    |   0.73   |    0.73   |  0.73  |   0.73  |   0.71   |   0.81  |\n",
      "| TFIDF |   SVM Linear   |   0.73   |    0.73   |  0.73  |   0.73  |   0.74   |   0.8   |\n",
      "| TFIDF | SVM Non-linear |   0.74   |    0.74   |  0.74  |   0.74  |   0.72   |   0.79  |\n",
      "| TFIDF | Decision Tree  |   0.71   |    0.71   |  0.71  |   0.71  |   0.77   |   0.78  |\n",
      "| TFIDF | Random Forest  |   0.74   |    0.74   |  0.74  |   0.74  |   0.71   |   0.81  |\n",
      "| TFIDF | Gradient Boost |   0.71   |    0.71   |  0.71  |   0.71  |   0.76   |   0.79  |\n",
      "| TFIDF |   Ada Boost    |   0.64   |    0.64   |  0.64  |   0.64  |   0.81   |   0.75  |\n",
      "| TFIDF |    xgboost     |   0.72   |    0.72   |  0.72  |   0.72  |   0.73   |   0.79  |\n",
      "+-------+----------------+----------+-----------+--------+---------+----------+---------+\n"
     ]
    }
   ],
   "source": [
    "BestMLAlgo(\"TFIDF\", X_train, X_test, y_train, y_test)"
   ]
  },
  {
   "cell_type": "code",
   "execution_count": null,
   "id": "2559be90-3a7a-4ae4-958d-692a6d4f4954",
   "metadata": {},
   "outputs": [],
   "source": []
  }
 ],
 "metadata": {
  "kernelspec": {
   "display_name": "Python 3 (ipykernel)",
   "language": "python",
   "name": "python3"
  },
  "language_info": {
   "codemirror_mode": {
    "name": "ipython",
    "version": 3
   },
   "file_extension": ".py",
   "mimetype": "text/x-python",
   "name": "python",
   "nbconvert_exporter": "python",
   "pygments_lexer": "ipython3",
   "version": "3.9.7"
  }
 },
 "nbformat": 4,
 "nbformat_minor": 5
}
